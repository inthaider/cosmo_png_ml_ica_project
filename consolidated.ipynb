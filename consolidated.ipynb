{
 "cells": [
  {
   "cell_type": "code",
   "execution_count": null,
   "metadata": {},
   "outputs": [],
   "source": []
  }
 ],
 "metadata": {
  "interpreter": {
   "hash": "1666c67192fa70062dc339cffc0cc38ef9c2ec362c91ccdaf1ac5edc8ba78950"
  },
  "kernelspec": {
   "display_name": "Python 3.9.4 64-bit ('cosmic': conda)",
   "language": "python",
   "name": "python3"
  },
  "language_info": {
   "name": "python",
   "version": "3.9.4"
  },
  "orig_nbformat": 4
 },
 "nbformat": 4,
 "nbformat_minor": 2
}
