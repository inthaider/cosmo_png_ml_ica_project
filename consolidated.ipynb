{
 "cells": [
  {
   "cell_type": "markdown",
   "metadata": {},
   "source": [
    "# Consolidated Work -- 20220305"
   ]
  },
  {
   "cell_type": "markdown",
   "metadata": {},
   "source": [
    "## ICA on $\\zeta_{G}$ with Gaussian Peaks as NonG"
   ]
  },
  {
   "cell_type": "markdown",
   "metadata": {},
   "source": [
    "<b>Import modules</b>"
   ]
  },
  {
   "cell_type": "code",
   "execution_count": 5,
   "metadata": {
    "colab": {},
    "colab_type": "code",
    "id": "lyha9MtG5Oj8",
    "scrolled": true
   },
   "outputs": [],
   "source": [
    "import numpy as np\n",
    "\n",
    "import matplotlib.pyplot as plt\n",
    "plt.rcParams.update({'font.size': 16})\n",
    "import matplotlib.gridspec as grd\n",
    "\n",
    "import scipy.interpolate as interpolate\n",
    "import scipy.signal as signal\n",
    "import scipy.stats as stats\n",
    "\n",
    "### modules contains Jaafar's modules\n",
    "import modules.peaks as px\n",
    "import modules.fouriertransform as ft\n",
    "import modules.correlationfunctions as cf\n",
    "import modules.gaussianfield as grf\n",
    "import modules.filters as flt\n",
    "\n",
    "\"\"\"\n",
    "Independent Component Analysis\n",
    "\n",
    "sklearn module contains contains a FastICA capability. We can chose the cost function (measure of non-Gaussianity): cube for kurtosis and logcosh for negentropy approximation.\n",
    "\"\"\"\n",
    "from sklearn.decomposition import FastICA\n",
    "import numpy as np\n",
    "import matplotlib.pyplot as plt\n",
    "import modules.colorednoise as cn\n",
    "import ica.ica_test_Jonathan as ica\n"
   ]
  },
  {
   "cell_type": "markdown",
   "metadata": {},
   "source": [
    "<b>Set parameters and initialize GRFs</b>"
   ]
  },
  {
   "cell_type": "code",
   "execution_count": 6,
   "metadata": {},
   "outputs": [],
   "source": [
    "# Parameters\n",
    "logtwo_N = 20\n",
    "N = 2**logtwo_N\n",
    "size_field = N\n",
    "seed = 50\n",
    "\n",
    "# Other NG parameters\n",
    "alpha = 1.0\n",
    "nu = 2\n",
    "c, w = 2, .2\n",
    "\n",
    "# Generate the grfs using gaussianfield\n",
    "g = grf.gaussian_random_field_1D(N, BoxSize=N, seed=seed)\n",
    "f = grf.gaussian_random_field_1D(N, BoxSize=N, seed=10000)"
   ]
  },
  {
   "cell_type": "code",
   "execution_count": null,
   "metadata": {},
   "outputs": [],
   "source": []
  },
  {
   "cell_type": "code",
   "execution_count": null,
   "metadata": {},
   "outputs": [],
   "source": []
  },
  {
   "cell_type": "code",
   "execution_count": null,
   "metadata": {},
   "outputs": [],
   "source": []
  },
  {
   "cell_type": "code",
   "execution_count": null,
   "metadata": {},
   "outputs": [],
   "source": []
  },
  {
   "cell_type": "code",
   "execution_count": null,
   "metadata": {},
   "outputs": [],
   "source": []
  },
  {
   "cell_type": "code",
   "execution_count": null,
   "metadata": {},
   "outputs": [
    {
     "data": {
      "text/plain": [
       "{'status': 'ok', 'restart': True}"
      ]
     },
     "execution_count": 1,
     "metadata": {},
     "output_type": "execute_result"
    }
   ],
   "source": [
    "\"\"\"\n",
    "Kill & restart kernel (to reset variables)\n",
    "\"\"\"\n",
    "\n",
    "import IPython\n",
    "IPython.Application.instance().kernel.do_shutdown(True) #automatically restarts kernel"
   ]
  },
  {
   "cell_type": "markdown",
   "metadata": {},
   "source": [
    "## ICA on $\\zeta_{G}$ with Asymmetric NonG"
   ]
  },
  {
   "cell_type": "markdown",
   "metadata": {
    "colab_type": "text",
    "id": "scu11DGRYPFF"
   },
   "source": [
    "<b>Import modules</b>"
   ]
  },
  {
   "cell_type": "code",
   "execution_count": null,
   "metadata": {
    "colab": {},
    "colab_type": "code",
    "id": "lyha9MtG5Oj8",
    "scrolled": true
   },
   "outputs": [],
   "source": [
    "import numpy as np\n",
    "import matplotlib.pyplot as plt\n",
    "plt.rcParams.update({'font.size': 16})\n",
    "import matplotlib.gridspec as grd\n",
    "import modules.peaks as px\n",
    "import modules.fouriertransform as ft\n",
    "import modules.correlationfunctions as cf\n",
    "import modules.gaussianfield as grf\n",
    "import modules.filters as flt\n",
    "import scipy.interpolate as interpolate\n",
    "import scipy.signal as signal\n",
    "import scipy.stats as stats"
   ]
  },
  {
   "cell_type": "markdown",
   "metadata": {},
   "source": [
    "<b>Set parameters and initialize GRFs</b>"
   ]
  },
  {
   "cell_type": "code",
   "execution_count": null,
   "metadata": {},
   "outputs": [],
   "source": [
    "# Parameters\n",
    "logtwo_N = 20\n",
    "N = 2**logtwo_N\n",
    "BoxSize = 512.0\n",
    "dx = BoxSize/N\n",
    "h = 0.695\n",
    "k0 = 0.02 \n",
    "A0 = (7.96*10**-10)# * 2*np.pi**2)\n",
    "ns = 0.965\n",
    "seed = 50\n",
    "dk = (2*np.pi) / BoxSize # Bin size (for power spectrum)\n",
    "Pk = lambda k: A0*(k/k0)**(ns-1)*k**-3\n",
    "\n",
    "# Other NG parameters\n",
    "alpha = 1.0\n",
    "nu = 2\n",
    "c, w = 2, .2\n",
    "\n",
    "# Generate the grfs using gaussianfield\n",
    "g = grf.gaussian_random_field_1D(N, BoxSize=N, seed=seed)\n",
    "f = grf.gaussian_random_field_1D(N, BoxSize=N, seed=10000)"
   ]
  },
  {
   "cell_type": "markdown",
   "metadata": {},
   "source": [
    "## ICA on Underdetermined Problem"
   ]
  },
  {
   "cell_type": "markdown",
   "metadata": {},
   "source": []
  }
 ],
 "metadata": {
  "interpreter": {
   "hash": "1666c67192fa70062dc339cffc0cc38ef9c2ec362c91ccdaf1ac5edc8ba78950"
  },
  "kernelspec": {
   "display_name": "Python 3.9.4 64-bit ('cosmic': conda)",
   "language": "python",
   "name": "python3"
  },
  "language_info": {
   "codemirror_mode": {
    "name": "ipython",
    "version": 3
   },
   "file_extension": ".py",
   "mimetype": "text/x-python",
   "name": "python",
   "nbconvert_exporter": "python",
   "pygments_lexer": "ipython3",
   "version": "3.9.9"
  },
  "orig_nbformat": 4
 },
 "nbformat": 4,
 "nbformat_minor": 2
}
