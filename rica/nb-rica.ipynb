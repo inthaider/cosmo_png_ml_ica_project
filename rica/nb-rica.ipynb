{
 "cells": [
  {
   "cell_type": "markdown",
   "metadata": {},
   "source": [
    "# RICA: Reconstruction Independent Component Analysis"
   ]
  },
  {
   "cell_type": "code",
   "execution_count": 1,
   "metadata": {},
   "outputs": [],
   "source": [
    "import numpy as np\n",
    "import torch\n",
    "from torch.nn import Parameter\n",
    "from torch.autograd import Variable\n",
    "import torchvision\n",
    "import torchvision.transforms as transforms\n",
    "import torchvision.utils as vutils\n",
    "from torch.utils.data import TensorDataset, DataLoader\n",
    "import itertools"
   ]
  },
  {
   "cell_type": "code",
   "execution_count": 2,
   "metadata": {},
   "outputs": [],
   "source": [
    "\"\"\"\n",
    "Reproduces Reconstruction ICA with PyTorch\n",
    "\n",
    "1. Modify `torchvision_path_cifar10` to your cifar10 path, or just any folder (it will download dataset automatically)\n",
    "2. If you do not have a GPU, set `use_gpu=False`. It's going to take more than a few minutes.. If you want to speed\n",
    "   things up a bit:\n",
    "   - change lambdas to just [2.4], this runs the script with a single lambda value only, and gives decent result\n",
    "   - maybe reduce num_epochs to 100\n",
    "   - if you want to run all the lambda values\n",
    "     - reduce patch_size to 8, which is probably 2x faster than 16\n",
    "     - reduce num_epochs to 40\n",
    "\"\"\"\n",
    "\n",
    "use_gpu    = False              # if to use GPU\n",
    "num_epochs = 200                # how long each lambda runs, 200 is probably overkill\n",
    "num_steps  = 20                 # how many lambdas to try\n",
    "patch_size = 16                 # patch size to extract, 16 is max\n",
    "weight_size= patch_size**2      # weight size is number of pixels in a patch (do not change)\n",
    "num_filters = weight_size       # complete-ICA has same number of filters as there are pixels\n",
    "lambdas = [l*0.4 for l in range(1,num_steps)] # the lambda values will be tried one by one\n",
    "torchvision_path_cifar10 = 'torchvision_cifar10/'\n",
    "\n",
    "def maybe_gpu(data):\n",
    "    return data.cuda() if use_gpu else data\n",
    "\n",
    "\n",
    "# use cifar10 as dataset\n",
    "dataset = torchvision.datasets.CIFAR10(\n",
    "        torchvision_path_cifar10, \n",
    "        train=True, \n",
    "        transform=transforms.Compose([\n",
    "            transforms.ToTensor(),\n",
    "            transforms.Normalize(mean=[0.469, 0.481, 0.451], std=[0.239,0.245,0.272])\n",
    "            # normalize to 0-mean, unit-variance\n",
    "        ]), \n",
    "        download=True)"
   ]
  },
  {
   "cell_type": "code",
   "execution_count": 17,
   "metadata": {},
   "outputs": [
    {
     "name": "stdout",
     "output_type": "stream",
     "text": [
      "50000\n",
      "2\n",
      "50000\n",
      "3\n"
     ]
    }
   ],
   "source": [
    "\n",
    "print(len(dataset))\n",
    "# print(dataset.targets)\n",
    "print(len(next(iter(dataset))))\n",
    "# z_chisq_npy = np.load(\"pnong/np-1d_zeta_fields/z_chisq_seeds741785_501982.npy\")\n",
    "# z_chisq = torch.Tensor(z_chisq_npy)\n",
    "# dataset = TensorDataset(z_chisq) # create your datset\n",
    "# loader = DataLoader(dataset) # create your dataloader\n",
    "\n",
    "loader = DataLoader(dataset, batch_size=1000, num_workers=2, pin_memory=True)\n",
    "\n",
    "\n",
    "# load the entire dataset into a single Tensor, this speeds things up quite a bit\n",
    "data_all = []\n",
    "for imgs, labels in loader:\n",
    "    data_all.append(imgs)\n",
    "data_all = torch.cat(data_all)      # merge into single tensor\n",
    "print(len(data_all))\n",
    "# print(dataset.targets)\n",
    "print(len(next(iter(data_all))))\n",
    "# data_all = data_all.mean(1)         # make black-white\n",
    "# data_all = maybe_gpu(data_all)\n"
   ]
  },
  {
   "cell_type": "code",
   "execution_count": null,
   "metadata": {},
   "outputs": [],
   "source": [
    "def doit(lambd=1, epochs=num_epochs):\n",
    "    weight    = Parameter(maybe_gpu(1.0/patch_size*torch.Tensor(weight_size,num_filters).normal_()))\n",
    "    optimizer = torch.optim.RMSprop([weight], 0.001, momentum=0.9)\n",
    "\n",
    "    for epoch in range(epochs):\n",
    "        for batch in range(data_all.size(0)/1000):\n",
    "            # select batch\n",
    "            imgs = data_all[batch*1000:(batch+1)*1000]\n",
    "            # capture a few patches\n",
    "            patches = []\n",
    "            for x,y in itertools.product([0, 8, 16],[0,8,16]):\n",
    "                patches.append(imgs[:, y:y+patch_size, x:x+patch_size])\n",
    "            patches = Variable(maybe_gpu(torch.cat(patches)))\n",
    "            patches = patches.view(patches.size(0), -1)\n",
    "            latents= patches.matmul(weight)\n",
    "            output = latents.matmul(weight.t())\n",
    "            diff = output - patches\n",
    "            loss_recon = (diff * diff).mean()\n",
    "            loss_latent= latents.abs().mean()\n",
    "            loss = lambd * loss_recon + loss_latent\n",
    "            # optimize\n",
    "            optimizer.zero_grad()\n",
    "            loss.backward()\n",
    "            optimizer.step()\n",
    "        print(epoch, loss.data[0], loss_recon.data[0], loss_latent.data[0])\n",
    "    weight_images = weight.data.t().contiguous().view(num_filters, 1, patch_size, patch_size).cpu()\n",
    "    vutils.save_image(weight_images, 'rica_weight_images_{}.jpg'.format(lambd), nrow=patch_size, normalize=True)\n",
    "    print('Finished lambda={}'.format(lambd))\n",
    "\n",
    "\n",
    "for l in lambdas:\n",
    "    doit(l)\n",
    "\n"
   ]
  },
  {
   "cell_type": "code",
   "execution_count": null,
   "metadata": {},
   "outputs": [],
   "source": []
  }
 ],
 "metadata": {
  "kernelspec": {
   "display_name": "Python 3.10.2 ('cosmic_nong')",
   "language": "python",
   "name": "python3"
  },
  "language_info": {
   "codemirror_mode": {
    "name": "ipython",
    "version": 3
   },
   "file_extension": ".py",
   "mimetype": "text/x-python",
   "name": "python",
   "nbconvert_exporter": "python",
   "pygments_lexer": "ipython3",
   "version": "3.10.2"
  },
  "orig_nbformat": 4,
  "vscode": {
   "interpreter": {
    "hash": "6781a5192c0b6eb04b7b9348c292a0e39c03bca97c5ebc8f1c4565fff6f215ea"
   }
  }
 },
 "nbformat": 4,
 "nbformat_minor": 2
}
