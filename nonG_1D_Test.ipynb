{
 "cells": [
  {
   "source": [
    "#### Import modules"
   ],
   "cell_type": "markdown",
   "metadata": {
    "colab_type": "text",
    "id": "hntEov2lpLMZ"
   }
  },
  {
   "cell_type": "code",
   "execution_count": null,
   "metadata": {
    "colab": {},
    "colab_type": "code",
    "id": "6YaxTPhbpmWG"
   },
   "outputs": [],
   "source": [
    "import numpy as np\n",
    "import matplotlib.pyplot as plt\n",
    "import modules.peaks as px\n",
    "import modules.fouriertransform as ft\n",
    "import modules.correlationfunctions as cf\n",
    "import modules.gaussianfield as grf\n",
    "import modules.filters as flt\n",
    "import nbodykit.lab as nbkt\n",
    "import scipy.interpolate as interpolate\n",
    "import scipy.signal as signal\n",
    "import scipy.stats as stats"
   ]
  },
  {
   "cell_type": "markdown",
   "metadata": {
    "colab_type": "text",
    "id": "3X8GGpfMYvDZ"
   },
   "source": [
    "# Gaussian fields"
   ]
  },
  {
   "cell_type": "markdown",
   "metadata": {
    "colab_type": "text",
    "id": "m2exTPmFpsS4"
   },
   "source": [
    "## Set Parameters"
   ]
  },
  {
   "cell_type": "code",
   "execution_count": null,
   "metadata": {
    "colab": {},
    "colab_type": "code",
    "id": "O7D9aEa1pr5_"
   },
   "outputs": [],
   "source": [
    "N = 256 # Number of particles per side \n",
    "BoxSize = 512.0 # Size per side (Mpc)\n",
    "dx = BoxSize/N\n",
    "h = 0.695 # Reduced Hubble constant\n",
    "k0 = 0.02 # Pivot mode\n",
    "A0 = (7.96*10**-10) # Amplitude\n",
    "ns = 0.965 # Spectral index\n",
    "dk = (2*np.pi) / BoxSize # Bin size (for power spectrum)\n",
    "\n",
    "seed = 13579\n",
    "\n",
    "Pk = lambda k: A0 * (k/k0)**(ns-1) * k**-3 # Power spectrum"
   ]
  },
  {
   "cell_type": "markdown",
   "metadata": {
    "colab_type": "text",
    "id": "V0TXa7VMqQTB"
   },
   "source": [
    "## Generate Gaussian field\n",
    "\n",
    "To generate a Gaussian random field with a given power spectrum $P(k)$, we can just compute $f_{\\mathbf{k}} = \\sum \\hat a_{\\mathbf{k}} \\sqrt{P(k)} e^{-i\\mathbf{k}.\\mathbf{x}}$ where $\\hat a_{\\mathbf{k}}$ is a Gaussian deviate, and inverse-Fourier transform it.\n"
   ]
  },
  {
   "cell_type": "code",
   "execution_count": null,
   "metadata": {
    "colab": {},
    "colab_type": "code",
    "id": "y7p5QzSIqQ7p"
   },
   "outputs": [],
   "source": [
    "# Using nbodykit\n",
    "\n",
    "mesh = nbkt.LinearMesh(Plin=Pk, Nmesh=N, BoxSize=BoxSize, seed=seed)\n",
    "g = mesh.preview() - 1 # WHY DO WE SUBTRACT 1??\n",
    "\n",
    "# Extracting a random 1D realization of the 3D field\n",
    "g1D = g[0][0]"
   ]
  },
  {
   "cell_type": "code",
   "execution_count": null,
   "metadata": {
    "colab": {},
    "colab_type": "code",
    "id": "MUsCrEKDyYKJ"
   },
   "outputs": [],
   "source": [
    "# Using gaussianfield\n",
    "\n",
    "g = grf.gaussian_random_field_1D(N, BoxSize=N, seed=seed)"
   ]
  },
  {
   "cell_type": "markdown",
   "metadata": {
    "colab_type": "text",
    "id": "aJLKd9h8rVPL"
   },
   "source": [
    "## Plot a slice of a field"
   ]
  },
  {
   "cell_type": "code",
   "execution_count": null,
   "metadata": {
    "colab": {},
    "colab_type": "code",
    "id": "eYBgLZVorUjS"
   },
   "outputs": [],
   "source": [
    "# Here, we're plotting the random 1D field fluctuations\n",
    "plt.figure(figsize=(8, 4))\n",
    "plt.title(r'$\\zeta_G$')\n",
    "plt.plot(g, label=r'$\\zeta_G$')\n",
    "plt.xlabel(r'Position ($z$)')\n",
    "plt.ylabel(r'Fluctuation Size ($\\times 10^{-5}$)')\n",
    "\n",
    "print(np.var(g))\n",
    "\n",
    "# x=15\n",
    "# plt.figure(figsize=(5, 4))\n",
    "# plt.title(r'$\\zeta_G$, Slice $x = $' + str(x))\n",
    "# plt.imshow(10**5*g[x].real, interpolation='none', cmap='plasma', vmin=-4.5, vmax=4.5)\n",
    "# plt.colorbar(fraction=0.046, pad=0.04).ax.set_title(r'$\\times 10^{-5}$', fontsize=9)\n"
   ]
  },
  {
   "cell_type": "markdown",
   "metadata": {
    "colab_type": "text",
    "id": "B8PDzJPztEhZ"
   },
   "source": [
    "# Uncorrelated peaks and statistics\n",
    "\n"
   ]
  },
  {
   "cell_type": "markdown",
   "metadata": {
    "colab_type": "text",
    "id": "KiSNC2GRZZ6p"
   },
   "source": [
    "## Peaks functions\n",
    "The peaks we consider here have a shape defined by the function $\\texttt{profile}$ in $\\texttt{peaks.py}$. For a Gaussian profile: $$P_p (\\mathbf{x}) = \\frac{Z_p}{(2 \\pi R_p^2)^{3/2}} e^{-\\frac{\\| \\mathbf{x} \\| ^2}{2R_p^2}}.$$\n",
    "\n",
    "The (uncorrelated) non-Gaussian field is then: $$\\zeta (\\mathbf{x}) = \\zeta_G (\\mathbf{x}) + \\sum_{p=1}^{N_{peaks}} P_p (\\mathbf{x} - \\mathbf{x_p}).$$\n",
    "\n",
    "We choose a number $N_{peaks}$, uniformly draw, using  the function $\\texttt{draw\\_peaks}$, $N_{peaks}$ positions on the grid for the peaks, and add their contribution to the Gaussian field."
   ]
  },
  {
   "cell_type": "markdown",
   "metadata": {
    "colab_type": "text",
    "id": "6zpBdJz9wFrh"
   },
   "source": [
    "## Add peaks\n",
    "Add $\\texttt{nop}$ peaks of size $\\texttt{R}$ and amplitude $\\texttt{zp}$ to the Gaussian realization $\\texttt{g}$. "
   ]
  },
  {
   "cell_type": "code",
   "execution_count": null,
   "metadata": {
    "colab": {},
    "colab_type": "code",
    "id": "-q1-Ssz5wAl4"
   },
   "outputs": [],
   "source": [
    "nop = 50\n",
    "zp = 25e-5\n",
    "r = 8\n",
    "\n",
    "# u_peaks is a list [[x, y, z], zp, rp], where xp is the location of the \n",
    "# peak/dip, zp its height and rp its width\n",
    "u_peaks = px.draw_peaks(nop, N, zp, r)\n",
    "\n",
    "# add_peaks adds the peaks to the field 'g' where 'N' is the size of the field\n",
    "# in particles per side\n",
    "ng = px.add_peaks(g, u_peaks, N) "
   ]
  },
  {
   "cell_type": "markdown",
   "metadata": {
    "colab_type": "text",
    "id": "OOnN8H93xMJA"
   },
   "source": [
    "## Plot slices"
   ]
  },
  {
   "cell_type": "code",
   "execution_count": null,
   "metadata": {},
   "outputs": [],
   "source": [
    "# u_peaks should have 'nop' peaks (so 'nop' entries) that are distributed randomly in the 3D field.\n",
    "# We want to isolate a 1D portion of the field that has a peak.\n",
    "\n",
    "# We choose a random peak using 'p', and look for its 'x' and 'y' coordinates in u_peaks\n",
    "p = 19 # number of the peak\n",
    "x = u_peaks[p][0][0]\n",
    "y = u_peaks[p][0][1]\n",
    "print(x, y)\n",
    "print(u_peaks[p])"
   ]
  },
  {
   "cell_type": "code",
   "execution_count": null,
   "metadata": {
    "colab": {},
    "colab_type": "code",
    "id": "kKYGou04xPdx",
    "scrolled": true
   },
   "outputs": [],
   "source": [
    "# Here, we plot 1D field with peaks at coordinates (x, y) \n",
    "plt.figure(figsize=(14, 4))\n",
    "\n",
    "plt.subplot(121)\n",
    "plt.title(r'$\\zeta_G$')\n",
    "plt.plot(10**5*g[x][y].real, label=r'$\\zeta_G$')\n",
    "plt.xlabel(r'Position ($x$)')\n",
    "plt.ylabel(r'Fluctuation Size ($\\times 10^{-5}$)')\n",
    "\n",
    "plt.subplot(122)\n",
    "plt.title(r'$\\zeta_{NG}$')\n",
    "plt.plot(10**5*ng[x][y].real, label=r'$\\zeta_G$')\n",
    "plt.xlabel(r'Position ($x$)')\n",
    "plt.ylabel(r'Fluctuation Size ($\\times 10^{-5}$)')\n",
    "\n",
    "# plt.subplot(121)\n",
    "# plt.title(r'$\\zeta_G$, Slice $x = $' + str(x))\n",
    "# plt.imshow(10**5*g[x].real, interpolation='none', cmap='plasma', vmin=-4.5, vmax=4.5)\n",
    "# plt.colorbar(fraction=0.046, pad=0.04).ax.set_title(r'$\\times 10^{-5}$', fontsize=9)\n",
    "\n",
    "# plt.subplot(122)\n",
    "# plt.title(r'$\\zeta_{NG}$, Slice $x = $' + str(x))\n",
    "# plt.imshow(10**5*ng[x].real, interpolation='none', cmap='plasma', vmin=-4.5, vmax=4.5)\n",
    "# plt.colorbar(fraction=0.046, pad=0.04).ax.set_title(r'$\\times 10^{-5}$', fontsize=9)"
   ]
  },
  {
   "cell_type": "markdown",
   "metadata": {
    "colab_type": "text",
    "id": "0AV3gvQOyJzS"
   },
   "source": [
    "## Plot power spectrum"
   ]
  },
  {
   "cell_type": "code",
   "execution_count": null,
   "metadata": {
    "colab": {},
    "colab_type": "code",
    "id": "7CAwBBnfyJXt",
    "scrolled": true
   },
   "outputs": [],
   "source": [
    "# Using nbodykit\n",
    "\n",
    "mesh_zeta_G = nbkt.ArrayMesh(g, BoxSize=BoxSize)\n",
    "r_zeta_G = nbkt.FFTPower(mesh_zeta_G, mode='1d', dk=dk)\n",
    "power_G = r_zeta_G.power\n",
    "print(type(mesh_zeta_G))\n",
    "\n",
    "mesh_zeta_NG = nbkt.ArrayMesh(ng, BoxSize=BoxSize)\n",
    "r_zeta_NG = nbkt.FFTPower(mesh_zeta_NG, mode='1d', dk=dk)\n",
    "power_NG = r_zeta_NG.power\n",
    "\n",
    "k = power_G['k']\n",
    "\n",
    "plt.figure(figsize=(8, 4))\n",
    "plt.loglog(k, k**(4-ns)*power_G['power'], label=r'$\\zeta_G$')\n",
    "plt.loglog(k, k**(4-ns)*power_NG['power'], label=r'$\\zeta_{NG}$')\n",
    "plt.legend(loc='upper right')\n",
    "plt.xlabel(r'$k$ $[Mpc^{-1}]$')\n",
    "plt.ylabel(r'$k^{4-n_s}P(k)$')"
   ]
  },
  {
   "cell_type": "code",
   "execution_count": null,
   "metadata": {},
   "outputs": [],
   "source": [
    "fft_G1D = np.fft.fft(g[x][y])\n",
    "conj_fft_G1D = fft_G1D.conjugate()\n",
    "power_G1D = np.multiply(fft_G1D,conj_fft_G1D)\n",
    "k = ft.fftmodes(N)\n",
    "\n",
    "fft_nG1D = np.fft.fft(ng[x][y])\n",
    "conj_fft_nG1D = fft_nG1D.conjugate()\n",
    "power_nG1D = np.multiply(fft_nG1D,conj_fft_nG1D)\n",
    "\n",
    "plt.figure(figsize=(8, 4))\n",
    "plt.loglog(2*k*np.pi, k**(4)*power_G1D, label=r'$\\zeta_G$')\n",
    "plt.loglog(2*k*np.pi, k**(4)*power_nG1D, label=r'$\\zeta_{NG}$')\n",
    "plt.legend(loc='upper right')\n",
    "plt.xlabel(r'$k$ $[Mpc^{-1}]$')\n",
    "plt.ylabel(r'$k^{4-n_s}P(k)$')"
   ]
  },
  {
   "cell_type": "code",
   "execution_count": null,
   "metadata": {
    "colab": {},
    "colab_type": "code",
    "id": "qrZc81uJ0Iz0"
   },
   "outputs": [],
   "source": [
    "# Using correlationfunction module\n",
    "\n",
    "pg, k = cf.power_spectrum(g[x][y], BoxSize=BoxSize, oneD=True)\n",
    "png, k = cf.power_spectrum(ng[x][y], BoxSize=BoxSize, oneD=True)\n",
    "\n",
    "pg = pg[k<.5*(N/BoxSize)] # Select modes bellow the Nyquist frequency\n",
    "png = png[k<.5*(N/BoxSize)]\n",
    "k = k[k<.5*(N/BoxSize)]\n",
    "\n",
    "plt.figure(figsize=(8, 4))\n",
    "plt.loglog(2*k*np.pi, k**(4-ns)*pg, label=r'$\\zeta_G$')\n",
    "plt.loglog(2*k*np.pi, k**(4-ns)*png, label=r'$\\zeta_{NG}$')\n",
    "plt.legend(loc='upper right')\n",
    "plt.xlabel(r'$k$ $[Mpc^{-1}]$')\n",
    "plt.ylabel(r'$k^{4-n_s}P(k)$')"
   ]
  },
  {
   "cell_type": "markdown",
   "metadata": {
    "colab_type": "text",
    "id": "6a9s8iPJ1SNx"
   },
   "source": [
    "## Plot CDF and PDF"
   ]
  },
  {
   "cell_type": "code",
   "execution_count": null,
   "metadata": {
    "colab": {},
    "colab_type": "code",
    "id": "z_IkzS9-1469"
   },
   "outputs": [],
   "source": [
    "# Plot CDF\n",
    "s = g.std()\n",
    "xg, cdfg = cf.cdf(g)\n",
    "xng, cdfng = cf.cdf(ng)\n",
    "\n",
    "plt.figure(figsize=(8, 4))\n",
    "\n",
    "plt.plot(xg/s, cdfg, label=r'$\\zeta_G$') #in units of the standard deviation in the x-axis\n",
    "plt.plot(xng/s, cdfng, label=r'$\\zeta_{NG}$') #in units of the standard deviation in the x-axis\n",
    "plt.legend(loc='upper left')\n",
    "plt.xlim((-3.0, 3.0))"
   ]
  },
  {
   "cell_type": "code",
   "execution_count": null,
   "metadata": {
    "colab": {},
    "colab_type": "code",
    "id": "_vk19Vr70nbK"
   },
   "outputs": [],
   "source": [
    "# Plot PDF\n",
    "s = g.std()\n",
    "yg, pdfg = cf.pdf(g)                                                                                                                                                                                                                                                                                               \n",
    "yng, pdfng = cf.pdf(ng)\n",
    "\n",
    "\n",
    "plt.figure(figsize=(8, 4))\n",
    "\n",
    "plt.plot(yg/s, pdfg, label=r'$\\zeta_G$')\n",
    "plt.plot(yng/s, pdfng, label=r'$\\zeta_{NG}$')\n",
    "plt.legend(loc='upper left')\n",
    "plt.xlim((-3.0, 3.0))"
   ]
  },
  {
   "cell_type": "markdown",
   "metadata": {
    "colab_type": "text",
    "id": "ienbz3yH3R16"
   },
   "source": [
    "## Vary parameters of peaks\n",
    "\n"
   ]
  },
  {
   "cell_type": "code",
   "execution_count": null,
   "metadata": {
    "colab": {},
    "colab_type": "code",
    "id": "mX8J8cxI3XnC"
   },
   "outputs": [],
   "source": [
    "# Variation of the radius r for fixed nop and zp\n",
    "s = g.std()\n",
    "\n",
    "R = [2, 4, 8, 12]\n",
    "nop = 5\n",
    "zp = 25e-5\n",
    "\n",
    "c = len(R)\n",
    "\n",
    "\n",
    "\n",
    "plt.figure(figsize=(8, 4))\n",
    "\n",
    "pg, k = cf.power_spectrum(g, BoxSize=BoxSize)\n",
    "pg = pg[k<.5*(N/BoxSize)]\n",
    "k = k[k<.5*(N/BoxSize)]\n",
    "plt.loglog(k, pg*k**(4-ns), label=r'$\\zeta_G$')\n",
    "\n",
    "for i in range(c):\n",
    "    u_peaks = px.draw_peaks(nop, N, zp, R[i])\n",
    "    ng = px.add_peaks(g, u_peaks, N)\n",
    "    \n",
    "    png, k = cf.power_spectrum(ng, BoxSize=BoxSize)\n",
    "    png = png[k<.5*(N/BoxSize)]\n",
    "    k = k[k<.5*(N/BoxSize)]\n",
    "    plt.loglog(k, png * k ** (4-ns), '--', label=r'$\\zeta_{NG} ; R_p = $' + str(R[i]))\n",
    "\n",
    "plt.xlabel(r'$k/2\\pi$')\n",
    "plt.ylabel(r'$k^{4-n_s}P(k)$')\n",
    "plt.legend(loc='upper right')\n",
    "\n",
    "plt.tight_layout()"
   ]
  },
  {
   "cell_type": "code",
   "execution_count": null,
   "metadata": {
    "colab": {},
    "colab_type": "code",
    "id": "EFbsMJ8x3ezV"
   },
   "outputs": [],
   "source": [
    "# Variation of the number of peaks nop for fixed r and zp\n",
    "\n",
    "Np = [5, 10, 20, 50, 100]\n",
    "zp = 10e-5\n",
    "rp = 8\n",
    "\n",
    "np = len(Np)\n",
    "\n",
    "plt.figure(figsize=(8, 4))\n",
    "\n",
    "pg, k = cf.power_spectrum(g, BoxSize=BoxSize)\n",
    "pg = pg[k<.5*(N/BoxSize)]\n",
    "k = k[k<.5*(N/BoxSize)]\n",
    "plt.loglog(k, pg* k ** (4-ns), label=r'$\\zeta_G$')\n",
    "\n",
    "for i in range(np):\n",
    "    u_peaks = px.draw_peaks(Np[i], N, zp, rp)\n",
    "    ng = px.add_peaks(g, u_peaks, N)\n",
    "    \n",
    "    png, k = cf.power_spectrum(ng, BoxSize=BoxSize)\n",
    "    png = png[k<.5*(N/BoxSize)]\n",
    "    k = k[k<.5*(N/BoxSize)]\n",
    "    plt.loglog(k, png * k ** (4-ns), '--', label='$\\zeta_{NG} ; N_p = $' + str(Np[i]))\n",
    "    \n",
    "plt.xlabel(r'$k/2\\pi$')\n",
    "plt.ylabel(r'$k^{4-n_s}P(k)$')\n",
    "plt.legend(loc='upper right')\n",
    "\n",
    "\n",
    "\n",
    "\n",
    "plt.tight_layout()"
   ]
  },
  {
   "cell_type": "code",
   "execution_count": null,
   "metadata": {
    "colab": {},
    "colab_type": "code",
    "id": "5jm11Yv43mbb"
   },
   "outputs": [],
   "source": [
    "# Variation of the amplitude zp for fixed r and nop\n",
    "\n",
    "Z = [ 8.5e-5, 20e-5, 30e-5, 60e-5]\n",
    "z = len(Z)\n",
    "nop = 10\n",
    "rp = 8\n",
    "\n",
    "plt.figure(figsize=(8, 4))\n",
    "\n",
    "pg = pg[k<.5*(N/BoxSize)]\n",
    "k = k[k<.5*(N/BoxSize)]\n",
    "plt.loglog(k, pg* k ** (4-ns), label=r'$\\zeta_G$')\n",
    "\n",
    "for i in range(z):\n",
    "    u_peaks = px.draw_peaks(nop, N, Z[i], rp)\n",
    "    ng = px.add_peaks(g, u_peaks, N)\n",
    "\n",
    "    png, k = cf.power_spectrum(ng, BoxSize=BoxSize)\n",
    "    png = png[k<.5*(N/BoxSize)]\n",
    "    k = k[k<.5*(N/BoxSize)]\n",
    "    plt.loglog(k, png * k ** (4-ns), '--', label='$\\zeta_{NG} ; N_p = $' + str(Np[i]))\n",
    "\n",
    "plt.xlabel(r'$k/2\\pi$')\n",
    "plt.ylabel(r'$k^{4-n_s}P(k)$')\n",
    "plt.legend(loc='upper right')\n",
    "\n",
    "\n",
    "plt.tight_layout()"
   ]
  },
  {
   "cell_type": "markdown",
   "metadata": {
    "colab_type": "text",
    "id": "yxQ39rgL_F0G"
   },
   "source": [
    "# Correlated peaks and statistics\n",
    "\n",
    "We apply the following functions on the Gaussian field to generate a non-Gaussian field. The plots are in units of the standard deviation of the Gaussian field"
   ]
  },
  {
   "cell_type": "code",
   "execution_count": null,
   "metadata": {
    "colab": {},
    "colab_type": "code",
    "id": "pMHw4gamMau_"
   },
   "outputs": [],
   "source": [
    "from IPython.display import Image\n",
    "Image(filename='Plots/fcts.png')"
   ]
  },
  {
   "cell_type": "markdown",
   "metadata": {
    "colab_type": "text",
    "id": "scu11DGRYPFF"
   },
   "source": [
    "## Set parameters"
   ]
  },
  {
   "cell_type": "code",
   "execution_count": 3,
   "metadata": {
    "colab": {},
    "colab_type": "code",
    "id": "lyha9MtG5Oj8",
    "scrolled": true
   },
   "outputs": [],
   "source": [
    "import numpy as np\n",
    "import matplotlib.pyplot as plt\n",
    "import modules.peaks as px\n",
    "import modules.fouriertransform as ft\n",
    "import modules.correlationfunctions as cf\n",
    "import modules.gaussianfield as grf\n",
    "import modules.filters as flt\n",
    "import nbodykit.lab as nbkt\n",
    "import scipy.interpolate as interpolate\n",
    "import scipy.signal as signal\n",
    "import scipy.stats as stats\n",
    "\n",
    "# Generate G fields using gaussianfield\n",
    "\n",
    "# Parameters\n",
    "logtwo_N = 20\n",
    "N = 2**logtwo_N\n",
    "BoxSize = 512.0\n",
    "dx = BoxSize/N\n",
    "h = 0.695\n",
    "k0 = 0.02 \n",
    "A0 = (7.96*10**-10)# * 2*np.pi**2)\n",
    "ns = 0.965\n",
    "seed = 50\n",
    "dk = (2*np.pi) / BoxSize # Bin size (for power spectrum)\n",
    "\n",
    "Pk = lambda k: A0*(k/k0)**(ns-1)*k**-3\n",
    "\n",
    "# Generate the grfs\n",
    "g = grf.gaussian_random_field_1D(N, BoxSize=N, seed=seed)\n",
    "f = grf.gaussian_random_field_1D(N, BoxSize=N, seed=10000)"
   ]
  },
  {
   "cell_type": "code",
   "execution_count": 4,
   "metadata": {},
   "outputs": [],
   "source": [
    "# Other Parameters\n",
    "\n",
    "# NG\n",
    "alpha = 1.0\n",
    "nu = 2\n",
    "c, w = 2, .2"
   ]
  },
  {
   "cell_type": "markdown",
   "metadata": {
    "colab_type": "text",
    "id": "nPJ3XdQeYJ87"
   },
   "source": [
    "## Generate nonG fields"
   ]
  },
  {
   "cell_type": "code",
   "execution_count": 5,
   "metadata": {
    "colab": {},
    "colab_type": "code",
    "id": "luY8xBsrzIIn"
   },
   "outputs": [],
   "source": [
    "# Generate nonG fields\n",
    "\n",
    "# Extract the standard deviation of the gaussian fields\n",
    "s = g.std()\n",
    "sf = f.std()\n",
    "\n",
    "# Generate the non-gaussian components that will be added to the gaussian fields\n",
    "# Note that 'g' is the field used to generate the NG components, so the NG\n",
    "# is correlated with 'g', and 'f' is a different Gaussian random field with\n",
    "# which the NG is uncorrelated\n",
    "NG_symsinh = px.map_sinh(g, nu*s, alpha) - g\n",
    "NG_asymsinh = px.map_asymm_sinh(g, nu*s, alpha) - g\n",
    "NG_smooth_bump = px.map_smooth_bump(g, c, w) - g\n",
    "NG_squared = g**2 - g\n",
    "\n",
    "# Generate the correlated NG zeta fields \n",
    "zeta_NG_symsinh = g + NG_symsinh\n",
    "zeta_NG_asymsinh = g + NG_asymsinh\n",
    "zeta_NG_smooth_bump = g + NG_smooth_bump\n",
    "zeta_NG_squared = g + g**2\n",
    "\n",
    "# Generate the uncorrelated NG zeta fields \n",
    "zeta_NG_symsinh_uncorr = f + NG_symsinh\n",
    "zeta_NG_asymsinh_uncorr = f + NG_asymsinh\n",
    "zeta_NG_smooth_bump_uncorr = f + NG_smooth_bump\n",
    "zeta_NG_squared_uncorr = f + g**2\n",
    "\n",
    "# Test the asymmetric sinh function applied to a linear function tf\n",
    "tf = np.linspace(-4, 4, N)\n",
    "zeta_NG_asymsinh_test = px.map_asymm_sinh(tf, nu*s, alpha) - tf\n",
    "\n",
    "# Generate gaussian distribution from mean and std of NG zeta fields\n",
    "# ???\n",
    "\n",
    "## Why are we getting an error for invalid value in power?"
   ]
  },
  {
   "cell_type": "code",
   "execution_count": null,
   "metadata": {
    "scrolled": true
   },
   "outputs": [],
   "source": [
    "# Smooth the correlated nonG field and calculate cumulants and moments (1 to 4) in each band\n",
    "\n",
    "# kc = np.arange(1, N//2+1, step=1000)\n",
    "# kw = np.ones(np.shape(kc)) * 10\n",
    "kc = np.logspace(0, logtwo_N-1, num=10, base=2.0)\n",
    "kc_size = kc.size\n",
    "fld_g = g\n",
    "fld_ng = zeta_NG_asymsinh\n",
    "\n",
    "cum1_g = np.zeros(np.shape(kc))\n",
    "cum2_g = np.zeros(np.shape(kc))\n",
    "cum3_g = np.zeros(np.shape(kc))\n",
    "cum4_g = np.zeros(np.shape(kc))\n",
    "\n",
    "cum1_ng = np.zeros(np.shape(kc))\n",
    "cum2_ng = np.zeros(np.shape(kc))\n",
    "cum3_ng = np.zeros(np.shape(kc))\n",
    "cum4_ng = np.zeros(np.shape(kc))\n",
    "\n",
    "cum1_g_ln = np.zeros(np.shape(kc))\n",
    "cum2_g_ln = np.zeros(np.shape(kc))\n",
    "cum3_g_ln = np.zeros(np.shape(kc))\n",
    "cum4_g_ln = np.zeros(np.shape(kc))\n",
    "\n",
    "cum1_ng_ln = np.zeros(np.shape(kc))\n",
    "cum2_ng_ln = np.zeros(np.shape(kc))\n",
    "cum3_ng_ln = np.zeros(np.shape(kc))\n",
    "cum4_ng_ln = np.zeros(np.shape(kc))\n",
    "\n",
    "mom1_g = np.zeros(np.shape(kc))\n",
    "mom2_g = np.zeros(np.shape(kc))\n",
    "mom3_g = np.zeros(np.shape(kc))\n",
    "mom4_g = np.zeros(np.shape(kc))\n",
    "\n",
    "mom1_ng = np.zeros(np.shape(kc))\n",
    "mom2_ng = np.zeros(np.shape(kc))\n",
    "mom3_ng = np.zeros(np.shape(kc))\n",
    "mom4_ng = np.zeros(np.shape(kc))\n",
    "\n",
    "mom1_g_ln = np.zeros(np.shape(kc))\n",
    "mom2_g_ln = np.zeros(np.shape(kc))\n",
    "mom3_g_ln = np.zeros(np.shape(kc))\n",
    "mom4_g_ln = np.zeros(np.shape(kc))\n",
    "\n",
    "mom1_ng_ln = np.zeros(np.shape(kc))\n",
    "mom2_ng_ln = np.zeros(np.shape(kc))\n",
    "mom3_ng_ln = np.zeros(np.shape(kc))\n",
    "mom4_ng_ln = np.zeros(np.shape(kc))\n",
    "\n",
    "zeta_smooth_gauss = np.zeros((kc_size, N))\n",
    "zeta_smooth = np.zeros((kc_size, N))\n",
    "zeta_smooth_ln = np.zeros((kc_size, N))\n",
    "\n",
    "for i in np.arange(0, kc_size-1):\n",
    "\n",
    "    zeta_smooth_gauss[i] = grf.window(fld_g, N, kc[i], kc[i+1])\n",
    "    zeta_smooth[i] = grf.window(fld_ng, N, kc[i], kc[i+1])\n",
    "#     zeta_smooth_ln[i], W_inv = grf.window_gauss_ln(zeta_NG_asymsinh, N, k, kw[i])\n",
    "    \n",
    "    cum1_ng[i] = stats.kstat(zeta_smooth[i], n=1)\n",
    "    cum1_g[i] = stats.kstat(zeta_smooth_gauss[i], n=1)\n",
    "    mom1_ng[i] = stats.moment(zeta_smooth[i], moment=1)\n",
    "    mom1_g[i] = stats.moment(zeta_smooth_gauss[i], moment=1)\n",
    "    \n",
    "    cum2_ng[i] = stats.kstat(zeta_smooth[i], n=2)\n",
    "    cum2_g[i] = stats.kstat(zeta_smooth_gauss[i], n=2)\n",
    "    mom2_ng[i] = stats.moment(zeta_smooth[i], moment=2)\n",
    "    mom2_g[i] = stats.moment(zeta_smooth_gauss[i], moment=2)\n",
    "    \n",
    "    cum3_ng[i] = stats.kstat(zeta_smooth[i], n=3)\n",
    "    cum3_g[i] = stats.kstat(zeta_smooth_gauss[i], n=3)\n",
    "    mom3_ng[i] = stats.moment(zeta_smooth[i], moment=3)\n",
    "    mom3_g[i] = stats.moment(zeta_smooth_gauss[i], moment=3)\n",
    "    \n",
    "    cum4_ng[i] = stats.kstat(zeta_smooth[i], n=4)\n",
    "    cum4_g[i] = stats.kstat(zeta_smooth_gauss[i], n=4)\n",
    "    mom4_ng[i] = stats.moment(zeta_smooth[i], moment=4)\n",
    "    mom4_g[i] = stats.moment(zeta_smooth_gauss[i], moment=4)\n"
   ]
  },
  {
   "cell_type": "code",
   "execution_count": null,
   "metadata": {},
   "outputs": [],
   "source": [
    "# Plot correlated G field, NG field, and F_nl\n",
    "\n",
    "fig, ((ax1, ax2), (ax3, ax4)) = plt.subplots(2,2,figsize=(15,11))\n",
    "\n",
    "# fld_g = g\n",
    "# fld_ng = zeta_NG_asymsinh\n",
    "fld_xax = np.arange(0,N)\n",
    "fld_diff = zeta_NG_asymsinh - g\n",
    "\n",
    "ax1.set_title(r'$\\zeta_G$ vs. $\\zeta_{NG}$')\n",
    "ax1.plot(fld_xax, fld_ng, label=r'$\\zeta_{NG}$', color='C1')\n",
    "ax1.plot(fld_xax, fld_g, label=r'$\\zeta_G$')\n",
    "ax1.legend(loc='upper left')\n",
    "ax1.set(xlabel=r'$x$', ylabel=\"Amplitude\")\n",
    "\n",
    "ax2.set_title(r'$\\zeta_{NG} - \\zeta_G$')\n",
    "ax2.plot(fld_xax, fld_diff, color='C1')\n",
    "ax2.set(xlabel=r'$x$', ylabel=\"Amplitude Difference\")\n",
    "\n",
    "ax3.set_title(\"Asymmetric Sinh \"r'$F_{NL}$')\n",
    "ax3.plot(tf, zeta_NG_asymsinh_test, label=r'$\\zeta_{NG}$', color='C2')\n",
    "ax3.set(xlabel=r'$f$', ylabel=r'$F_{NL}(f)$')\n",
    "\n",
    "ax4.set_visible(False)\n",
    "\n",
    "plt.savefig('CorrNG_Fields.png')"
   ]
  },
  {
   "cell_type": "code",
   "execution_count": null,
   "metadata": {},
   "outputs": [],
   "source": [
    "# Plot PDFs for correlated G and NG fields\n",
    "\n",
    "fig, ((ax1, ax2), (ax3, ax4)) = plt.subplots(2,2,figsize=(15,11))\n",
    "\n",
    "# fld_g = g\n",
    "# fld_ng = zeta_NG_asymsinh\n",
    "hist_binvalues = np.linspace(-4.5, 4.5, 500)\n",
    "\n",
    "ax1.set_title(r'PDF $\\zeta_G$')\n",
    "ax1.hist(fld_g, bins=hist_binvalues, density=True, histtype='step')\n",
    "ax1.set(ylabel=\"Probability\")\n",
    "\n",
    "ax2.set_title(r'PDF $\\zeta_{NG}$')\n",
    "ax2.hist(fld_ng, bins=hist_binvalues, density=True, histtype='step', color='C1')\n",
    "ax2.set(ylabel=\"Probability\")\n",
    "\n",
    "ax3.set_title(r'PDF $\\zeta_G$ vs. $\\zeta_{NG}$')\n",
    "ax3.hist(fld_g, bins=hist_binvalues, density=True, label=r'$\\zeta_G$', histtype='step')\n",
    "ax3.hist(fld_ng, bins=hist_binvalues, density=True, label=r'$\\zeta_{NG}$', histtype='step', color='C1')\n",
    "ax3.legend(loc='upper left')\n",
    "ax3.set(ylabel=r\"Probability\")\n",
    "\n",
    "ax4.set_visible(False)\n",
    "\n",
    "plt.savefig('CorrNG_PDFs.png')"
   ]
  },
  {
   "cell_type": "code",
   "execution_count": null,
   "metadata": {},
   "outputs": [],
   "source": [
    "# Plot cumulants for correlated G and NG fields\n",
    "\n",
    "fig, axs = plt.subplots(2,2,figsize=(15,11))\n",
    "\n",
    "# fld_g = g\n",
    "# fld_ng = zeta_NG_asymsinh\n",
    "cm_xax = np.log2(kc)\n",
    "gmark = 'x'\n",
    "ngmark = 'o'\n",
    "\n",
    "axs[0, 0].set_title(r'First Cumulant')\n",
    "axs[0, 0].plot(cm_xax, cum1_g, gmark, label=r'$\\zeta_G$')\n",
    "axs[0, 0].plot(cm_xax, cum1_ng, ngmark, label=r'$\\zeta_{NG}$')\n",
    "axs[0, 0].legend(loc='best')\n",
    "\n",
    "axs[0, 1].set_title(r'Second Cumulant')\n",
    "axs[0, 1].plot(cm_xax, cum2_g, gmark, label=r'$\\zeta_G$')\n",
    "axs[0, 1].plot(cm_xax, cum2_ng, ngmark, label=r'$\\zeta_{NG}$')\n",
    "axs[0, 1].legend(loc='best')\n",
    "\n",
    "axs[1, 0].set_title(r'Third Cumulant')\n",
    "axs[1, 0].plot(cm_xax, cum3_g, gmark, label=r'$\\zeta_G$')\n",
    "axs[1, 0].plot(cm_xax, cum3_ng, ngmark, label=r'$\\zeta_{NG}$')\n",
    "axs[1, 0].legend(loc='best')\n",
    "\n",
    "axs[1, 1].set_title(r'Fourth Cumulant')\n",
    "axs[1, 1].plot(cm_xax, cum4_g, gmark, label=r'$\\zeta_G$')\n",
    "axs[1, 1].plot(cm_xax, cum4_ng, ngmark, label=r'$\\zeta_{NG}$')\n",
    "axs[1, 1].legend(loc='best')\n",
    "\n",
    "k = 1\n",
    "for ax in axs.flat:\n",
    "    ax.set(xlabel=r'$log_{2}(k)$', ylabel=r'$\\kappa_{{{0}}}$'.format(k))\n",
    "    k += 1\n",
    "    \n",
    "plt.savefig('CorrNG_cum.png')"
   ]
  },
  {
   "cell_type": "code",
   "execution_count": null,
   "metadata": {},
   "outputs": [],
   "source": [
    "# Plot moments for correlated G and NG fields\n",
    "\n",
    "fig, axs = plt.subplots(2,2,figsize=(15,11))\n",
    "\n",
    "# fld_g = g\n",
    "# fld_ng = zeta_NG_asymsinh\n",
    "cm_xax = np.log2(kc)\n",
    "gmark = 'x'\n",
    "ngmark = 'o'\n",
    "\n",
    "axs[0, 0].set_title(r'First Moment')\n",
    "axs[0, 0].plot(cm_xax, mom1_g, gmark, label=r'$\\zeta_G$')\n",
    "axs[0, 0].plot(cm_xax, mom1_ng, ngmark, label=r'$\\zeta_{NG}$')\n",
    "axs[0, 0].legend(loc='best')\n",
    "\n",
    "axs[0, 1].set_title(r'Second Moment')\n",
    "axs[0, 1].plot(cm_xax, mom2_g, gmark, label=r'$\\zeta_G$')\n",
    "axs[0, 1].plot(cm_xax, mom2_ng, ngmark, label=r'$\\zeta_{NG}$')\n",
    "axs[0, 1].legend(loc='best')\n",
    "\n",
    "axs[1, 0].set_title(r'Third Moment')\n",
    "axs[1, 0].plot(cm_xax, mom3_g, gmark, label=r'$\\zeta_G$')\n",
    "axs[1, 0].plot(cm_xax, mom3_ng, ngmark, label=r'$\\zeta_{NG}$')\n",
    "axs[1, 0].legend(loc='best')\n",
    "\n",
    "axs[1, 1].set_title(r'Fourth Moment')\n",
    "axs[1, 1].plot(cm_xax, mom4_g, gmark, label=r'$\\zeta_G$')\n",
    "axs[1, 1].plot(cm_xax, mom4_ng, ngmark, label=r'$\\zeta_{NG}$')\n",
    "axs[1, 1].legend(loc='best')\n",
    "\n",
    "k = 1\n",
    "for ax in axs.flat:\n",
    "    ax.set(xlabel=r'$log_{2}(k)$', ylabel=r'$\\mu_{{{0}}}$'.format(k))\n",
    "    k += 1\n",
    "    \n",
    "plt.savefig('CorrNG_mom.png')"
   ]
  },
  {
   "cell_type": "code",
   "execution_count": null,
   "metadata": {},
   "outputs": [],
   "source": [
    "# Smooth the uncorrelated nonG field and calculate cumulants and moments (1 to 4) in each band\n",
    "\n",
    "# kc = np.arange(1, N//2+1, step=1000)\n",
    "# kw = np.ones(np.shape(kc)) * 10\n",
    "kc = np.logspace(0, logtwo_N-1, num=10, base=2.0)\n",
    "kc_size = kc.size\n",
    "fld_g = f\n",
    "fld_ng = zeta_NG_asymsinh_uncorr\n",
    "\n",
    "cum1_g = np.zeros(np.shape(kc))\n",
    "cum2_g = np.zeros(np.shape(kc))\n",
    "cum3_g = np.zeros(np.shape(kc))\n",
    "cum4_g = np.zeros(np.shape(kc))\n",
    "\n",
    "cum1_ng = np.zeros(np.shape(kc))\n",
    "cum2_ng = np.zeros(np.shape(kc))\n",
    "cum3_ng = np.zeros(np.shape(kc))\n",
    "cum4_ng = np.zeros(np.shape(kc))\n",
    "\n",
    "cum1_g_ln = np.zeros(np.shape(kc))\n",
    "cum2_g_ln = np.zeros(np.shape(kc))\n",
    "cum3_g_ln = np.zeros(np.shape(kc))\n",
    "cum4_g_ln = np.zeros(np.shape(kc))\n",
    "\n",
    "cum1_ng_ln = np.zeros(np.shape(kc))\n",
    "cum2_ng_ln = np.zeros(np.shape(kc))\n",
    "cum3_ng_ln = np.zeros(np.shape(kc))\n",
    "cum4_ng_ln = np.zeros(np.shape(kc))\n",
    "\n",
    "mom1_g = np.zeros(np.shape(kc))\n",
    "mom2_g = np.zeros(np.shape(kc))\n",
    "mom3_g = np.zeros(np.shape(kc))\n",
    "mom4_g = np.zeros(np.shape(kc))\n",
    "\n",
    "mom1_ng = np.zeros(np.shape(kc))\n",
    "mom2_ng = np.zeros(np.shape(kc))\n",
    "mom3_ng = np.zeros(np.shape(kc))\n",
    "mom4_ng = np.zeros(np.shape(kc))\n",
    "\n",
    "mom1_g_ln = np.zeros(np.shape(kc))\n",
    "mom2_g_ln = np.zeros(np.shape(kc))\n",
    "mom3_g_ln = np.zeros(np.shape(kc))\n",
    "mom4_g_ln = np.zeros(np.shape(kc))\n",
    "\n",
    "mom1_ng_ln = np.zeros(np.shape(kc))\n",
    "mom2_ng_ln = np.zeros(np.shape(kc))\n",
    "mom3_ng_ln = np.zeros(np.shape(kc))\n",
    "mom4_ng_ln = np.zeros(np.shape(kc))\n",
    "\n",
    "zeta_smooth_gauss = np.zeros((kc_size, N))\n",
    "zeta_smooth = np.zeros((kc_size, N))\n",
    "zeta_smooth_ln = np.zeros((kc_size, N))\n",
    "\n",
    "for i in np.arange(0, kc_size-1):\n",
    "\n",
    "    zeta_smooth_gauss[i] = grf.window(fld_g, N, kc[i], kc[i+1])\n",
    "    zeta_smooth[i] = grf.window(fld_ng, N, kc[i], kc[i+1])\n",
    "#     zeta_smooth_ln[i], W_inv = grf.window_gauss_ln(zeta_NG_asymsinh, N, k, kw[i])\n",
    "    \n",
    "    cum1_ng[i] = stats.kstat(zeta_smooth[i], n=1)\n",
    "    cum1_g[i] = stats.kstat(zeta_smooth_gauss[i], n=1)\n",
    "    mom1_ng[i] = stats.moment(zeta_smooth[i], moment=1)\n",
    "    mom1_g[i] = stats.moment(zeta_smooth_gauss[i], moment=1)\n",
    "    \n",
    "    cum2_ng[i] = stats.kstat(zeta_smooth[i], n=2)\n",
    "    cum2_g[i] = stats.kstat(zeta_smooth_gauss[i], n=2)\n",
    "    mom2_ng[i] = stats.moment(zeta_smooth[i], moment=2)\n",
    "    mom2_g[i] = stats.moment(zeta_smooth_gauss[i], moment=2)\n",
    "    \n",
    "    cum3_ng[i] = stats.kstat(zeta_smooth[i], n=3)\n",
    "    cum3_g[i] = stats.kstat(zeta_smooth_gauss[i], n=3)\n",
    "    mom3_ng[i] = stats.moment(zeta_smooth[i], moment=3)\n",
    "    mom3_g[i] = stats.moment(zeta_smooth_gauss[i], moment=3)\n",
    "    \n",
    "    cum4_ng[i] = stats.kstat(zeta_smooth[i], n=4)\n",
    "    cum4_g[i] = stats.kstat(zeta_smooth_gauss[i], n=4)\n",
    "    mom4_ng[i] = stats.moment(zeta_smooth[i], moment=4)\n",
    "    mom4_g[i] = stats.moment(zeta_smooth_gauss[i], moment=4)\n",
    "\n"
   ]
  },
  {
   "cell_type": "code",
   "execution_count": null,
   "metadata": {},
   "outputs": [],
   "source": [
    "# Plot uncorrelated G field, NG field, and F_nl\n",
    "\n",
    "fig, ((ax1, ax2), (ax3, ax4)) = plt.subplots(2,2,figsize=(15,11))\n",
    "\n",
    "# fld_g = g\n",
    "# fld_ng = zeta_NG_asymsinh\n",
    "fld_xax = np.arange(0,N)\n",
    "fld_diff = zeta_NG_asymsinh - g\n",
    "transp = 0.4\n",
    "\n",
    "ax1.set_title(r'$\\zeta_G$ vs. $\\zeta_{NG}$')\n",
    "ax1.plot(fld_xax, fld_g, label=r'$\\zeta_G$')\n",
    "ax1.plot(fld_xax, fld_ng, label=r'$\\zeta_{NG}$', alpha = transp, color='C1')\n",
    "ax1.legend(loc='upper left')\n",
    "ax1.set(xlabel=r'$x$', ylabel=\"Amplitude\")\n",
    "\n",
    "ax2.set_title(r'$\\zeta_{NG} - \\zeta_G$')\n",
    "ax2.plot(fld_xax, fld_diff, color='C1')\n",
    "ax2.set(xlabel=r'$x$', ylabel=\"Amplitude Difference\")\n",
    "\n",
    "ax3.set_title(\"Asymmetric Sinh \"r'$F_{NL}$')\n",
    "ax3.plot(tf, zeta_NG_asymsinh_test, label=r'$\\zeta_{NG}$', color='C2')\n",
    "ax3.set(xlabel=r'$f$', ylabel=r'$F_{NL}(f)$')\n",
    "\n",
    "ax4.set_visible(False)\n",
    "\n",
    "plt.savefig('UncorrNG_Fields.png')"
   ]
  },
  {
   "cell_type": "code",
   "execution_count": null,
   "metadata": {},
   "outputs": [],
   "source": [
    "# Plot PDFs for uncorrelated G and NG fields\n",
    "\n",
    "fig, ((ax1, ax2), (ax3, ax4)) = plt.subplots(2,2,figsize=(15,11))\n",
    "\n",
    "# fld_g = g\n",
    "# fld_ng = zeta_NG_asymsinh\n",
    "hist_binvalues = np.linspace(-4.5, 4.5, 500)\n",
    "\n",
    "ax1.set_title(r'PDF $\\zeta_G$')\n",
    "ax1.hist(fld_g, bins=hist_binvalues, density=True, histtype='step')\n",
    "ax1.set(ylabel=\"Probability\")\n",
    "\n",
    "ax2.set_title(r'PDF $\\zeta_{NG}$')\n",
    "ax2.hist(fld_ng, bins=hist_binvalues, density=True, histtype='step', color='C1')\n",
    "ax2.set(ylabel=\"Probability\")\n",
    "\n",
    "ax3.set_title(r'PDF $\\zeta_G$ vs. $\\zeta_{NG}$')\n",
    "ax3.hist(fld_g, bins=hist_binvalues, density=True, label=r'$\\zeta_G$', histtype='step')\n",
    "ax3.hist(fld_ng, bins=hist_binvalues, density=True, label=r'$\\zeta_{NG}$', histtype='step', color='C1')\n",
    "ax3.legend(loc='upper left')\n",
    "ax3.set(ylabel=r\"Probability\")\n",
    "\n",
    "ax4.set_visible(False)\n",
    "\n",
    "plt.savefig('UncorrNG_PDFs.png')"
   ]
  },
  {
   "cell_type": "code",
   "execution_count": null,
   "metadata": {},
   "outputs": [],
   "source": [
    "# Plot cumulants for uncorrelated G and NG fields\n",
    "\n",
    "fig, axs = plt.subplots(2,2,figsize=(15,11))\n",
    "\n",
    "# fld_g = g\n",
    "# fld_ng = zeta_NG_asymsinh\n",
    "cm_xax = np.log2(kc)\n",
    "gmark = 'x'\n",
    "ngmark = 'o'\n",
    "\n",
    "axs[0, 0].set_title(r'First Cumulant')\n",
    "axs[0, 0].plot(cm_xax, cum1_g, gmark, label=r'$\\zeta_G$')\n",
    "axs[0, 0].plot(cm_xax, cum1_ng, ngmark, label=r'$\\zeta_{NG}$')\n",
    "axs[0, 0].legend(loc='best')\n",
    "\n",
    "axs[0, 1].set_title(r'Second Cumulant')\n",
    "axs[0, 1].plot(cm_xax, cum2_g, gmark, label=r'$\\zeta_G$')\n",
    "axs[0, 1].plot(cm_xax, cum2_ng, ngmark, label=r'$\\zeta_{NG}$')\n",
    "axs[0, 1].legend(loc='best')\n",
    "\n",
    "axs[1, 0].set_title(r'Third Cumulant')\n",
    "axs[1, 0].plot(cm_xax, cum3_g, gmark, label=r'$\\zeta_G$')\n",
    "axs[1, 0].plot(cm_xax, cum3_ng, ngmark, label=r'$\\zeta_{NG}$')\n",
    "axs[1, 0].legend(loc='best')\n",
    "\n",
    "axs[1, 1].set_title(r'Fourth Cumulant')\n",
    "axs[1, 1].plot(cm_xax, cum4_g, gmark, label=r'$\\zeta_G$')\n",
    "axs[1, 1].plot(cm_xax, cum4_ng, ngmark, label=r'$\\zeta_{NG}$')\n",
    "axs[1, 1].legend(loc='best')\n",
    "\n",
    "k = 1\n",
    "for ax in axs.flat:\n",
    "    ax.set(xlabel=r'$log_{2}(k)$', ylabel=r'$\\kappa_{{{0}}}$'.format(k))\n",
    "    k += 1\n",
    "    \n",
    "plt.savefig('UncorrNG_cum.png')"
   ]
  },
  {
   "cell_type": "code",
   "execution_count": null,
   "metadata": {},
   "outputs": [],
   "source": [
    "# Plot moments for uncorrelated G and NG fields\n",
    "\n",
    "fig, axs = plt.subplots(2,2,figsize=(15,11))\n",
    "\n",
    "# fld_g = g\n",
    "# fld_ng = zeta_NG_asymsinh\n",
    "cm_xax = np.log2(kc)\n",
    "gmark = 'x'\n",
    "ngmark = 'o'\n",
    "\n",
    "axs[0, 0].set_title(r'First Moment')\n",
    "axs[0, 0].plot(cm_xax, mom1_g, gmark, label=r'$\\zeta_G$')\n",
    "axs[0, 0].plot(cm_xax, mom1_ng, ngmark, label=r'$\\zeta_{NG}$')\n",
    "axs[0, 0].legend(loc='best')\n",
    "\n",
    "axs[0, 1].set_title(r'Second Moment')\n",
    "axs[0, 1].plot(cm_xax, mom2_g, gmark, label=r'$\\zeta_G$')\n",
    "axs[0, 1].plot(cm_xax, mom2_ng, ngmark, label=r'$\\zeta_{NG}$')\n",
    "axs[0, 1].legend(loc='best')\n",
    "\n",
    "axs[1, 0].set_title(r'Third Moment')\n",
    "axs[1, 0].plot(cm_xax, mom3_g, gmark, label=r'$\\zeta_G$')\n",
    "axs[1, 0].plot(cm_xax, mom3_ng, ngmark, label=r'$\\zeta_{NG}$')\n",
    "axs[1, 0].legend(loc='best')\n",
    "\n",
    "axs[1, 1].set_title(r'Fourth Moment')\n",
    "axs[1, 1].plot(cm_xax, mom4_g, gmark, label=r'$\\zeta_G$')\n",
    "axs[1, 1].plot(cm_xax, mom4_ng, ngmark, label=r'$\\zeta_{NG}$')\n",
    "axs[1, 1].legend(loc='best')\n",
    "\n",
    "k = 1\n",
    "for ax in axs.flat:\n",
    "    ax.set(xlabel=r'$log_{2}(k)$', ylabel=r'$\\mu_{{{0}}}$'.format(k))\n",
    "    k += 1\n",
    "    \n",
    "plt.savefig('UncorrNG_mom.png')"
   ]
  },
  {
   "cell_type": "code",
   "execution_count": null,
   "metadata": {},
   "outputs": [],
   "source": [
    "# # Plot fields\n",
    "\n",
    "# # Here, we're plotting the random 1D field fluctuations\n",
    "# plt.figure(figsize=(14, 10))\n",
    "\n",
    "# plt.subplot(221)\n",
    "# plt.title(r'$\\zeta_G$')\n",
    "# plt.plot(g, label=r'$\\zeta_G$')\n",
    "# plt.xlabel(r'Position ($x$)')\n",
    "# plt.ylabel(r'Fluctuation Size ($\\times 10^{-5}$)')\n",
    "\n",
    "# plt.subplot(222)\n",
    "# plt.title(r'$\\zeta_{NG}$')\n",
    "# plt.plot(f, label=r'$\\zeta_G$')\n",
    "# plt.xlabel(r'Position ($x$)')\n",
    "# plt.ylabel(r'Fluctuation Size ($\\times 10^{-5}$)')\n",
    "\n",
    "# plt.subplot(223)\n",
    "# plt.title(r'$\\zeta_{NG}$')\n",
    "# plt.plot(zeta_NG_squared, label=r'$\\zeta_G$')\n",
    "# plt.xlabel(r'Position ($x$)')\n",
    "# plt.ylabel(r'Fluctuation Size ($\\times 10^{-5}$)')\n",
    "\n",
    "# plt.subplot(224)\n",
    "# plt.title(r'$\\zeta_{NG}$')\n",
    "# plt.plot(zeta_NG_gauss, label=r'$\\zeta_G$')\n",
    "# plt.xlabel(r'Position ($x$)')\n",
    "# plt.ylabel(r'Fluctuation Size ($\\times 10^{-5}$)')\n"
   ]
  },
  {
   "cell_type": "markdown",
   "metadata": {
    "colab_type": "text",
    "id": "y2nPFXu54XL-"
   },
   "source": [
    "## Power spectrum"
   ]
  },
  {
   "cell_type": "code",
   "execution_count": null,
   "metadata": {
    "colab": {},
    "colab_type": "code",
    "id": "0BUrG1BDzqag"
   },
   "outputs": [],
   "source": [
    "# Using nbodykit\n",
    "\n",
    "dk = 0.01\n",
    "kmin = 0.01\n",
    "\n",
    "# Gaussian\n",
    "\n",
    "mesh_zeta_G = nbkt.ArrayMesh(g, BoxSize=BoxSize)\n",
    "r_zeta_G = nbkt.FFTPower(mesh_zeta_G, mode='1d', dk=dk, kmin=kmin)\n",
    "power_G = r_zeta_G.power\n",
    "\n",
    "# Sinh nonG\n",
    "\n",
    "mesh_zeta_NG_symsinh = nbkt.ArrayMesh(zeta_NG_symsinh, BoxSize=BoxSize)\n",
    "r_zeta_NG_symsinh = nbkt.FFTPower(mesh_zeta_NG_symsinh, mode='1d', dk=dk, kmin=kmin)\n",
    "power_NG_symsinh = r_zeta_NG_symsinh.power\n",
    "\n",
    "# Asymmetric sinh nonG\n",
    "\n",
    "mesh_zeta_NG_asymsinh = nbkt.ArrayMesh(zeta_NG_asymsinh, BoxSize=BoxSize)\n",
    "r_zeta_NG_asymsinh = nbkt.FFTPower(mesh_zeta_NG_asymsinh, mode='1d', dk=dk, kmin=kmin)\n",
    "power_NG_asymsinh = r_zeta_NG_asymsinh.power\n",
    "\n",
    "# PDF smooth bump nonG\n",
    "\n",
    "mesh_zeta_NG_smooth_bump = nbkt.ArrayMesh(zeta_NG_smooth_bump, BoxSize=BoxSize)\n",
    "r_zeta_NG_smooth_bump = nbkt.FFTPower(mesh_zeta_NG_smooth_bump, mode='1d', dk=dk, kmin=kmin)\n",
    "power_NG_smooth_bump = r_zeta_NG_smooth_bump.power\n",
    "\n",
    "\n",
    "# Plot power spectra\n",
    "\n",
    "k = power_G['k']\n",
    "plt.loglog(k, k**(4-ns)*power_G['power'].real, '-', label='G')\n",
    "plt.loglog(k, k**(4-ns)*power_NG_symsinh['power'].real, '*-', label='Sinh nG')\n",
    "plt.loglog(k, k**(4-ns)*power_NG_asymsinh['power'].real, '.-', label='Asymmetic sinh nG')\n",
    "plt.loglog(k, k**(4-ns)*power_NG_smooth_bump['power'].real, '--', label='PDF smooth bump nG')\n",
    "\n",
    "plt.xlabel(r'$k$ [Mpc$^{-1}$]')\n",
    "plt.ylabel(r'$k^{4-n_s}P(k)$ [Mpc$^{-3}$]')\n",
    "plt.legend(loc='upper left')\n"
   ]
  },
  {
   "cell_type": "markdown",
   "metadata": {
    "colab_type": "text",
    "id": "enUHWngKM7x3"
   },
   "source": [
    "# Independent Component Analysis\n",
    "\n",
    "$\\texttt{sklearn}$ module contains contains a $\\texttt{FastICA}$ capability. We can chose the cost function (measure of non-Gaussianity): $\\texttt{cube}$ for kurtosis, and $\\texttt{logcosh}$ for negentropy approximation.\n",
    "\n"
   ]
  },
  {
   "cell_type": "code",
   "execution_count": 6,
   "metadata": {
    "colab": {},
    "colab_type": "code",
    "id": "gLskRi0BOfru"
   },
   "outputs": [],
   "source": [
    "from sklearn.decomposition import FastICA\n",
    "import numpy as np\n",
    "import matplotlib.pyplot as plt\n",
    "import modules.colorednoise as cn"
   ]
  },
  {
   "cell_type": "code",
   "execution_count": 7,
   "metadata": {},
   "outputs": [],
   "source": [
    "# Note that 'g' is the field used to generate the NG component called 'NG_asymsinh', \n",
    "# so 'NG_asymsinh' is correlated with 'g', and 'f' is a different Gaussian random \n",
    "# field with which the 'NG_asymsinh' is uncorrelated. \n",
    "\n",
    "source_components = np.vstack([g, NG_asymsinh])\n",
    "num_comps = 2\n",
    "num_samples = 400\n",
    "\n",
    "mix_matrix = (1+np.random.random((num_samples,num_comps)))/2.0\n",
    "mix_signal = np.dot(mix_matrix, source_components)\n"
   ]
  },
  {
   "cell_type": "code",
   "execution_count": 8,
   "metadata": {},
   "outputs": [
    {
     "name": "stdout",
     "output_type": "stream",
     "text": [
      "(400, 1048576)\n"
     ]
    }
   ],
   "source": [
    "# print(fi)\n",
    "# print(mix.shape, fi.shape)\n",
    "# print(mix.T)\n",
    "# print(mix)\n",
    "print(mix_signal.shape)"
   ]
  },
  {
   "cell_type": "markdown",
   "metadata": {
    "colab_type": "text",
    "id": "6q-eu2NOREqe"
   },
   "source": [
    "## Plot the sources"
   ]
  },
  {
   "cell_type": "code",
   "execution_count": 9,
   "metadata": {
    "colab": {},
    "colab_type": "code",
    "id": "AMKIHtK5RH9F"
   },
   "outputs": [
    {
     "data": {
      "text/plain": [
       "[<matplotlib.lines.Line2D at 0x1c21263a58>]"
      ]
     },
     "execution_count": 9,
     "metadata": {},
     "output_type": "execute_result"
    },
    {
     "data": {
      "image/png": "[encoded data removed]",
      "text/plain": [
       "<Figure size 1800x288 with 2 Axes>"
      ]
     },
     "metadata": {
      "needs_background": "light"
     },
     "output_type": "display_data"
    }
   ],
   "source": [
    "plt.figure(1, figsize=(25,4))\n",
    "\n",
    "plt.subplot(131)\n",
    "plt.plot(source_components[0, :])\n",
    "plt.subplot(132)\n",
    "plt.plot(source_components[1, :])"
   ]
  },
  {
   "cell_type": "markdown",
   "metadata": {
    "colab_type": "text",
    "id": "w0Pc7Ra2QfWm"
   },
   "source": [
    "## Plot the inputs"
   ]
  },
  {
   "cell_type": "code",
   "execution_count": 11,
   "metadata": {
    "colab": {},
    "colab_type": "code",
    "id": "heEyjw8eRJMs"
   },
   "outputs": [
    {
     "data": {
      "text/plain": [
       "[<matplotlib.lines.Line2D at 0x1c200a8438>]"
      ]
     },
     "execution_count": 11,
     "metadata": {},
     "output_type": "execute_result"
    },
    {
     "data": {
      "image/png": "[encoded data removed]",
      "text/plain": [
       "<Figure size 1800x288 with 2 Axes>"
      ]
     },
     "metadata": {
      "needs_background": "light"
     },
     "output_type": "display_data"
    }
   ],
   "source": [
    "plt.figure(1, figsize=(25,4))\n",
    "\n",
    "plt.subplot(131)\n",
    "plt.plot(mix_signal[0, :])\n",
    "plt.subplot(132)\n",
    "plt.plot(mix_signal[256, :])"
   ]
  },
  {
   "cell_type": "markdown",
   "metadata": {
    "colab_type": "text",
    "id": "ivveCCz9SL5b"
   },
   "source": [
    "## Apply $\\texttt{FastICA}$"
   ]
  },
  {
   "cell_type": "code",
   "execution_count": null,
   "metadata": {
    "colab": {},
    "colab_type": "code",
    "id": "EovzZuexSRMn"
   },
   "outputs": [],
   "source": [
    "ica = FastICA(n_components=num_comps, algorithm='deflation', max_iter=10, tol=1e-4, fun='cube')\n",
    "sc = ica.fit_transform(mix_signal.T)\n",
    "print(sc)\n",
    "\n",
    "ica = FastICA(n_components=num_comps, algorithm='deflation', max_iter=10, tol=1e-4, fun='logcosh')\n",
    "sl = ica.fit_transform(mix_signal.T)"
   ]
  },
  {
   "cell_type": "markdown",
   "metadata": {
    "colab_type": "text",
    "id": "jVN_rUbySfm3"
   },
   "source": [
    "## Plot extracted signals"
   ]
  },
  {
   "cell_type": "code",
   "execution_count": 17,
   "metadata": {
    "colab": {},
    "colab_type": "code",
    "id": "aS4VkreeSfMW"
   },
   "outputs": [
    {
     "data": {
      "text/plain": [
       "Text(0.5, 1.0, 'Kurtosis')"
      ]
     },
     "execution_count": 17,
     "metadata": {},
     "output_type": "execute_result"
    },
    {
     "data": {
      "image/png": "[encoded data removed]",
      "text/plain": [
       "<Figure size 1440x576 with 1 Axes>"
      ]
     },
     "metadata": {
      "needs_background": "light"
     },
     "output_type": "display_data"
    }
   ],
   "source": [
    "plt.figure(1, figsize=(20,8))\n",
    "\n",
    "for i in range(2):\n",
    "    plt.plot(sc[:, i]+.3*i)\n",
    "    \n",
    "plt.title('Kurtosis')"
   ]
  },
  {
   "cell_type": "code",
   "execution_count": 18,
   "metadata": {},
   "outputs": [
    {
     "data": {
      "text/plain": [
       "Text(0.5, 1.0, 'Negentropy')"
      ]
     },
     "execution_count": 18,
     "metadata": {},
     "output_type": "execute_result"
    },
    {
     "data": {
      "image/png": "[encoded data removed]",
      "text/plain": [
       "<Figure size 1440x576 with 1 Axes>"
      ]
     },
     "metadata": {
      "needs_background": "light"
     },
     "output_type": "display_data"
    }
   ],
   "source": [
    "plt.figure(1, figsize=(20,8))\n",
    "\n",
    "for i in range(2):\n",
    "    plt.plot(sl[:,i]+.3*i)\n",
    "\n",
    "plt.title('Negentropy')"
   ]
  },
  {
   "cell_type": "code",
   "execution_count": null,
   "metadata": {},
   "outputs": [],
   "source": []
  },
  {
   "cell_type": "code",
   "execution_count": null,
   "metadata": {},
   "outputs": [],
   "source": []
  }
 ],
 "metadata": {
  "colab": {
   "collapsed_sections": [
    "hntEov2lpLMZ",
    "3X8GGpfMYvDZ",
    "m2exTPmFpsS4",
    "V0TXa7VMqQTB",
    "aJLKd9h8rVPL",
    "B8PDzJPztEhZ",
    "OOnN8H93xMJA",
    "0AV3gvQOyJzS",
    "6a9s8iPJ1SNx",
    "yxQ39rgL_F0G",
    "scu11DGRYPFF",
    "nPJ3XdQeYJ87",
    "y2nPFXu54XL-",
    "_qSUw482VxuN",
    "bAB73_oU_LDN",
    "enUHWngKM7x3"
   ],
   "name": "nonG_notebook.ipynb",
   "provenance": [],
   "version": "0.3.2"
  },
  "kernelspec": {
   "display_name": "Python 3",
   "language": "python",
   "name": "python3"
  },
  "language_info": {
   "codemirror_mode": {
    "name": "ipython",
    "version": 3
   },
   "file_extension": ".py",
   "mimetype": "text/x-python",
   "name": "python",
   "nbconvert_exporter": "python",
   "pygments_lexer": "ipython3",
   "version": "3.6.10"
  }
 },
 "nbformat": 4,
 "nbformat_minor": 1
}