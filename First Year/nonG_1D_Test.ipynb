version https://git-lfs.github.com/spec/v1
oid sha256:d165fcb0cf1fe88cbe35e3cbb370cdcc3dada36501ed5ae34efa7a09d404d97d
size 184139
