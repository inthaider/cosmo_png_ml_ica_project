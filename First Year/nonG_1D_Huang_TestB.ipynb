version https://git-lfs.github.com/spec/v1
oid sha256:746e5d1d13f41de8352c6662ccdf3d7aff0af2380a9fb2befa0efb009bb88919
size 5000423
