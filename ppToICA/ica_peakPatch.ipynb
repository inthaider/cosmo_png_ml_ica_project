{
 "cells": [
  {
   "cell_type": "markdown",
   "metadata": {},
   "source": [
    "# ICA on Peak Patch Fields"
   ]
  },
  {
   "cell_type": "code",
   "execution_count": 2,
   "metadata": {},
   "outputs": [],
   "source": [
    "import numpy as np\n",
    "import sys\n",
    "\n",
    "import matplotlib.pyplot as plt\n",
    "plt.rcParams.update({'font.size': 16})"
   ]
  },
  {
   "cell_type": "code",
   "execution_count": 3,
   "metadata": {},
   "outputs": [
    {
     "name": "stdout",
     "output_type": "stream",
     "text": [
      "17.92 1024 64\n"
     ]
    }
   ],
   "source": [
    "# This is for a correlated non-gaussianity run using f_NL=10^4.\n",
    "# Which is a way bigger f_NL than is allowed by the constraints on this\n",
    "# specific model from experiments, but it's big so it should make the non-\n",
    "# gaussianity easier to see. All of these fields have are spatial cubes\n",
    "# with side length s=128 Mpc/h, represented by \n",
    "\n",
    "\n",
    "\n",
    "# params = './peak_patch_fields/fnl=1e4/param/17Mpc_n1024_nb64_nt2.params'\n",
    "# append current python modules' folder path\n",
    "# example: need to import module.py present in '/path/to/python/module/not/in/syspath'\n",
    "sys.path.append('/Users/JawanHaider/Desktop/research/researchProjects/nonG_project/nonG_code/ppToICA/peak_patch_fields/fnl=1e4/')\n",
    "\n",
    "import param_params as prm\n",
    "\n",
    "# params = '/Users/JawanHaider/Desktop/research/researchProjects/nonG_project/nonG_code/ppToICA/peak_patch_fields/fnl=1e4/param/17Mpc_n1024_nb64_nt2.params'\n",
    "# dict=pykDict.pykDict()\n",
    "# dict.read_from_file(params)\n",
    "\n",
    "# Side length of the cubic simulation volume\n",
    "s = prm.boxsize # in Mpc/h\n",
    "\n",
    "# Side length of field arrays\n",
    "n = prm.nmesh\n",
    "\n",
    "# Buffer thickness\n",
    "nbuff = prm.nbuff\n",
    "\n",
    "print(s,n,nbuff)"
   ]
  },
  {
   "cell_type": "code",
   "execution_count": 4,
   "metadata": {},
   "outputs": [],
   "source": [
    "# Gaussian delta field\n",
    "delta_g_file = '/Users/JawanHaider/Desktop/research/researchProjects/nonG_project/nonG_code/ppToICA/peak_patch_fields/fnl=1e4/fields/Fvec_17Mpc_n1024_nb64_nt2'\n",
    "in_delta_g   = open(delta_g_file, 'rb')\n",
    "\n",
    "# non-Gaussian delta field\n",
    "delta_file = '/Users/JawanHaider/Desktop/research/researchProjects/nonG_project/nonG_code/ppToICA/peak_patch_fields/fnl=1e4/fields/Fvec_fNL_17Mpc_n1024_nb64_nt2'\n",
    "in_delta   = open(delta_file, 'rb')\n",
    "\n",
    "\n",
    "# Gaussian zeta field\n",
    "zeta_g_file = '/Users/JawanHaider/Desktop/research/researchProjects/nonG_project/nonG_code/ppToICA/peak_patch_fields/fnl=1e4/fields/zetag_17Mpc_n1024_nb64_nt2'\n",
    "in_zeta_g   = open(zeta_g_file, 'rb')\n",
    "\n",
    "# non-Gaussian zeta field\n",
    "zeta_file = '/Users/JawanHaider/Desktop/research/researchProjects/nonG_project/nonG_code/ppToICA/peak_patch_fields/fnl=1e4/fields/zetang_17Mpc_n1024_nb64_nt2'\n",
    "in_zeta   = open(zeta_file, 'rb')"
   ]
  },
  {
   "cell_type": "code",
   "execution_count": 5,
   "metadata": {},
   "outputs": [
    {
     "name": "stdout",
     "output_type": "stream",
     "text": [
      "-6.077687\n"
     ]
    }
   ],
   "source": [
    "# Read in delta_g, reshape it into an nxnxn, and then trim off buffers\n",
    "delta_g = np.fromfile(in_delta_g,dtype=np.float32,count=-1) \n",
    "delta_g = np.reshape(delta_g, (n,n,n), order='F')\n",
    "delta_g = delta_g[nbuff:-nbuff,nbuff:-nbuff,nbuff:-nbuff]\n",
    "\n",
    "print(delta_g[0,0,0])"
   ]
  },
  {
   "cell_type": "code",
   "execution_count": 6,
   "metadata": {},
   "outputs": [
    {
     "name": "stdout",
     "output_type": "stream",
     "text": [
      "-108844.7\n"
     ]
    }
   ],
   "source": [
    "# Read in delta, reshape it into an nxnxn, and then trim off the buffers\n",
    "delta = np.fromfile(in_delta,dtype=np.float32,count=-1)\n",
    "delta = np.reshape(delta, (n,n,n), order='F')\n",
    "delta = delta[nbuff:-nbuff,nbuff:-nbuff,nbuff:-nbuff]\n",
    "\n",
    "print(delta[0,0,0])"
   ]
  },
  {
   "cell_type": "code",
   "execution_count": 10,
   "metadata": {},
   "outputs": [],
   "source": [
    "sideN = delta.shape[0]\n",
    "sideNh = int(sideN/2)\n",
    "delta_ng = np.empty_like(delta)"
   ]
  },
  {
   "cell_type": "code",
   "execution_count": 14,
   "metadata": {},
   "outputs": [],
   "source": [
    "delta_ng[0:sideNh,0:sideNh,0:sideNh] = delta[0:sideNh,0:sideNh,0:sideNh] - delta_g[0:sideNh,0:sideNh,0:sideNh]"
   ]
  },
  {
   "cell_type": "code",
   "execution_count": 15,
   "metadata": {},
   "outputs": [],
   "source": [
    "delta_ng[sideNh:sideN, sideNh:sideN, sideNh:sideN] = delta[sideNh:sideN, sideNh:sideN, sideNh:sideN] - delta_g[sideNh:sideN, sideNh:sideN, sideNh:sideN]\n",
    "\n",
    "print(delta_ng[0,0,0])"
   ]
  },
  {
   "cell_type": "code",
   "execution_count": 7,
   "metadata": {},
   "outputs": [
    {
     "name": "stdout",
     "output_type": "stream",
     "text": [
      "4.5570557e-12\n"
     ]
    }
   ],
   "source": [
    "# Read in zeta_g, reshape it into an nxnxn, and then trim off buffers\n",
    "zeta_g = np.fromfile(in_zeta_g,dtype=np.float32,count=-1)\n",
    "zeta_g = np.reshape(zeta_g, (n,n,n), order='F')\n",
    "zeta_g = zeta_g[nbuff:-nbuff,nbuff:-nbuff,nbuff:-nbuff]\n",
    "\n",
    "print(zeta_g[0,0,0])"
   ]
  },
  {
   "cell_type": "code",
   "execution_count": 8,
   "metadata": {},
   "outputs": [
    {
     "name": "stdout",
     "output_type": "stream",
     "text": [
      "6.7194045e-12\n"
     ]
    }
   ],
   "source": [
    "# Read in zeta, reshape it into an nxnxn, and then trim off the buffers\n",
    "zeta = np.fromfile(in_zeta,dtype=np.float32,count=-1)\n",
    "zeta = np.reshape(zeta, (n,n,n), order='F')\n",
    "zeta = zeta[nbuff:-nbuff,nbuff:-nbuff,nbuff:-nbuff]\n",
    "\n",
    "print(zeta[0,0,0])"
   ]
  },
  {
   "cell_type": "code",
   "execution_count": 8,
   "metadata": {},
   "outputs": [],
   "source": [
    "# nonG component of Zeta\n",
    "delta_ng = delta - delta_g "
   ]
  },
  {
   "cell_type": "code",
   "execution_count": 9,
   "metadata": {},
   "outputs": [
    {
     "ename": "Error",
     "evalue": "Canceled future for execute_request message before replies were done",
     "output_type": "error",
     "traceback": [
      "Error: Canceled future for execute_request message before replies were done",
      "at t.KernelShellFutureHandler.dispose (/Users/JawanHaider/.vscode/extensions/ms-toolsai.jupyter-2022.3.1000901801/out/extension.js:2:1204175)",
      "at /Users/JawanHaider/.vscode/extensions/ms-toolsai.jupyter-2022.3.1000901801/out/extension.js:2:1223227",
      "at Map.forEach (<anonymous>)",
      "at v._clearKernelState (/Users/JawanHaider/.vscode/extensions/ms-toolsai.jupyter-2022.3.1000901801/out/extension.js:2:1223212)",
      "at v.dispose (/Users/JawanHaider/.vscode/extensions/ms-toolsai.jupyter-2022.3.1000901801/out/extension.js:2:1216694)",
      "at /Users/JawanHaider/.vscode/extensions/ms-toolsai.jupyter-2022.3.1000901801/out/extension.js:2:533674",
      "at t.swallowExceptions (/Users/JawanHaider/.vscode/extensions/ms-toolsai.jupyter-2022.3.1000901801/out/extension.js:2:913059)",
      "at dispose (/Users/JawanHaider/.vscode/extensions/ms-toolsai.jupyter-2022.3.1000901801/out/extension.js:2:533652)",
      "at t.RawSession.dispose (/Users/JawanHaider/.vscode/extensions/ms-toolsai.jupyter-2022.3.1000901801/out/extension.js:2:537330)",
      "at runMicrotasks (<anonymous>)",
      "at processTicksAndRejections (node:internal/process/task_queues:96:5)"
     ]
    }
   ],
   "source": [
    "# nonG component of Zeta\n",
    "zeta_ng = zeta - zeta_g "
   ]
  },
  {
   "cell_type": "code",
   "execution_count": null,
   "metadata": {},
   "outputs": [],
   "source": [
    "# # Defines X,Y,Z as meshgrid\n",
    "# edges = np.linspace( -s/2 , s/2 , n+1 )\n",
    "# X,Y,Z = np.meshgrid(edges,edges,edges,indexing='ij')\n",
    "\n",
    "\n",
    "\n",
    "\n",
    "\n",
    "# You now have zeta_g, delta_g, and delta, which are three n-by-n-by-n NumPy arrays representing a gaussian zeta field, a \n",
    "# gaussian density field (specifically rho bar times delta, that we talked about today) and a non-gaussian delta field."
   ]
  },
  {
   "cell_type": "markdown",
   "metadata": {},
   "source": [
    "### You now have zeta_g, delta_g, and delta, which are three n-by-n-by-n NumPy arrays representing a gaussian zeta field, a gaussian density field (specifically rho bar times delta, that we talked about today) and a non-gaussian delta field."
   ]
  },
  {
   "cell_type": "code",
   "execution_count": null,
   "metadata": {},
   "outputs": [],
   "source": [
    "print(delta_g[0,0,0], delta[0,0,0])\n",
    "\n",
    "print(zeta_g[0,0,0], zeta[0,0,0])"
   ]
  },
  {
   "cell_type": "code",
   "execution_count": null,
   "metadata": {},
   "outputs": [],
   "source": [
    "# Take out 1D strips from the mesh fields\n",
    "\n",
    "xcoord = 20\n",
    "ycoord = 20\n",
    "\n",
    "delta_g_1d = delta_g[xcoord,ycoord,:] # 1d Delta field - Gaussian\n",
    "delta_1d = delta[xcoord,ycoord,:]\n",
    "delta_ng_1d = delta_ng[xcoord,ycoord,:] # 1d Delta field - nonG\n",
    "\n",
    "\n",
    "xcoord = 20\n",
    "ycoord = 20\n",
    "\n",
    "zeta_g_1d = zeta_g[xcoord,ycoord,:]*1000000 # 1d Zeta field - Gaussian\n",
    "zeta_1d = zeta[xcoord,ycoord,:]*1000000\n",
    "zeta_ng_1d = zeta_ng[xcoord,ycoord,:]*1000000 # 1d Zeta field - nonG"
   ]
  },
  {
   "cell_type": "code",
   "execution_count": null,
   "metadata": {},
   "outputs": [],
   "source": [
    "\n",
    "plt.plot(delta_g_1d, label='Gaussian Comp. of delta')\n",
    "plt.plot(delta_1d, label='Total delta')\n",
    "plt.plot(delta_ng_1d, label='nonG Comp. of delta')\n",
    "\n",
    "plt.legend()"
   ]
  },
  {
   "cell_type": "code",
   "execution_count": null,
   "metadata": {},
   "outputs": [],
   "source": [
    "\n",
    "plt.plot(zeta_g_1d, label='Gaussian Comp. of Zeta')\n",
    "plt.plot(zeta_1d, label='Total Zeta')\n",
    "plt.plot(zeta_ng_1d, label='nonG Comp. of Zeta')\n",
    "plt.ylim([-1, 1])\n",
    "plt.legend()"
   ]
  },
  {
   "cell_type": "code",
   "execution_count": null,
   "metadata": {},
   "outputs": [],
   "source": []
  }
 ],
 "metadata": {
  "interpreter": {
   "hash": "1666c67192fa70062dc339cffc0cc38ef9c2ec362c91ccdaf1ac5edc8ba78950"
  },
  "kernelspec": {
   "display_name": "Python 3.9.9 ('cosmic')",
   "language": "python",
   "name": "python3"
  },
  "language_info": {
   "codemirror_mode": {
    "name": "ipython",
    "version": 3
   },
   "file_extension": ".py",
   "mimetype": "text/x-python",
   "name": "python",
   "nbconvert_exporter": "python",
   "pygments_lexer": "ipython3",
   "version": "3.10.4"
  },
  "orig_nbformat": 4
 },
 "nbformat": 4,
 "nbformat_minor": 2
}
