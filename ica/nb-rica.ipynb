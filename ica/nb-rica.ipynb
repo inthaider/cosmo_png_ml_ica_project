{
 "cells": [
  {
   "cell_type": "markdown",
   "metadata": {},
   "source": [
    "# RICA: Reconstruction Independent Component Analysis\n",
    "\n",
    "# Generate Zeta Fields"
   ]
  },
  {
   "cell_type": "markdown",
   "metadata": {},
   "source": [
    "<b>Import modules\n",
    "AND BLAH BLAH</b>\n"
   ]
  },
  {
   "cell_type": "code",
   "execution_count": 1,
   "metadata": {},
   "outputs": [],
   "source": [
    "# %load_ext autoreload"
   ]
  },
  {
   "cell_type": "code",
   "execution_count": 14,
   "metadata": {},
   "outputs": [],
   "source": [
    "import importlib as il\n",
    "import copy\n",
    "\n",
    "from pathlib import Path # For path manipulations and module loading\n",
    "import numpy as np\n",
    "import matplotlib.pyplot as plt # plt.rcParams.update({'font.size': 12})\n",
    "# import matplotlib.gridspec as grd\n",
    "import pickle\n",
    "\n",
    "import scipy.interpolate as interpolate\n",
    "import scipy.signal as signal\n",
    "import scipy.stats as stats\n",
    "from scipy.signal.windows import hann\n",
    "\n",
    "# Independent Component Analysis\n",
    "# sklearn module contains contains a FastICA capability. We can chose the cost function (measure of non-Gaussianity): \n",
    "# cube for kurtosis and logcosh for negentropy approximation.\n",
    "from sklearn.decomposition import FastICA\n",
    "\n",
    "# import nbodykit.lab as nbkt\n",
    "import modules.jaafar_peaks as px\n",
    "import modules.jaafar_fouriertransform as ft\n",
    "import modules.jaafar_correlationfunctions as cf\n",
    "\n",
    "import modules.fields_gauss as grf\n",
    "import modules.fields_nong as nong\n",
    "import modules.filters as flt\n",
    "import modules.ica as ica\n",
    "import modules.helpers as helper\n",
    "from modules.helpers import resid"
   ]
  },
  {
   "cell_type": "markdown",
   "metadata": {},
   "source": [
    "zeta multiplication factor = { (2*\\pi*sidelength)/(sidelength_in_mpc) }^3\n",
    "\n",
    "peak-patch/tools/powerspectrum_create\n",
    "\n",
    "pkp/tables/planck18_intermittent.dat\n",
    "(1st column -- k; 2nd -- delta_delta power spectrum; 3rd -- zeta transfer func/k^2)\n",
    "zeta power spectrum = 2nd col / 3rd^2\n",
    "\n",
    "tables/plot_spectra.py line 142\n",
    "\n",
    "zeta = zeta(g)\n",
    "\n",
    "take flat GRF power spectrum, multiply by sqrt[ (2*\\pi*N / N_in_Mpc)^3 {power spectra above} ].\n",
    "\n",
    "will have real-space zeta(x) = zeta_g + fnl*chi^2"
   ]
  },
  {
   "cell_type": "markdown",
   "metadata": {},
   "source": [
    "Hann Window: \n",
    "\n",
    "w(n) = 0.5 - 0.5 * cos( (2 * pi * n) / (M-1) )     \n",
    "\n",
    "[0 <= n <= M - 1]"
   ]
  },
  {
   "cell_type": "markdown",
   "metadata": {},
   "source": [
    "## Generate Primodial $\\zeta$ Fields"
   ]
  },
  {
   "cell_type": "markdown",
   "metadata": {},
   "source": [
    "### Gaussian Random Fields:\n",
    "<b>Set parameters and initialize the $\\zeta$ GRFs.</b>"
   ]
  },
  {
   "cell_type": "code",
   "execution_count": 15,
   "metadata": {},
   "outputs": [],
   "source": [
    "def grf_ensemble(N_ensemble, N_field, A0=7.96*10**-10, ns=1.0, kmnr=2/3, ensemble_seeds=None):\n",
    "    \"\"\"\n",
    "\n",
    "    \"\"\"\n",
    "\n",
    "    ensemble = np.zeros((N_ensemble, N_field))\n",
    "    N = N_field\n",
    "\n",
    "    # if ensemble_seeds is None:\n",
    "    #     seeds = np.zeros(N_ensemble)\n",
    "    #     for i in range(N_ensemble):\n",
    "    #         seeds[i] = np.random.get_state()\n",
    "    # else:\n",
    "    #     seeds = ensemble_seeds\n",
    "\n",
    "    for i in range(N_ensemble):\n",
    "        # np.random.set_state(seeds[i])\n",
    "        # zg = grf.grf_zeta_1d(N, pk_amp=A0, pk_ns=ns, kmaxknyq_ratio=kmnr, seed=seeds[i])\n",
    "        \n",
    "        zg = grf.grf_zeta_1d(N, pk_amp=A0, pk_ns=ns, kmaxknyq_ratio=kmnr, seed=None)\n",
    "        ensemble[i, :] = zg\n",
    "\n",
    "    # return ensemble, seeds\n",
    "    return ensemble\n",
    "\n",
    "def chisq_ensemble(N_ensemble, N_field, Achi=10**(-10), Rchi=0.04, Bchi=0.0, Fng=1.0, kmnr=2/3, ensemble_seeds=None):\n",
    "    \"\"\"\n",
    "\n",
    "    \"\"\"\n",
    "\n",
    "    ensemble = np.zeros((N_ensemble, N_field))\n",
    "    N = N_field\n",
    "\n",
    "    # if ensemble_seeds is None:\n",
    "    #     seeds = np.zeros(N_ensemble)\n",
    "    #     for i in range(N_ensemble):\n",
    "    #         seeds[i] = np.random.get_state()\n",
    "    # else:\n",
    "    #     seeds = ensemble_seeds\n",
    "\n",
    "    for i in range(N_ensemble):\n",
    "        # np.random.set_state(seeds[i])\n",
    "        # zng_chisq = nong.nong_chisq(N, Achi, Rchi, Bchi, Fng, kmnr, seedchi=seeds[i])\n",
    "\n",
    "        zng_chisq = nong.nong_chisq(N, Achi, Rchi, Bchi, Fng, kmnr, seedchi=None)\n",
    "        ensemble[i, :] = zng_chisq\n",
    "\n",
    "    # return ensemble, seeds\n",
    "    return ensemble"
   ]
  },
  {
   "cell_type": "markdown",
   "metadata": {},
   "source": [
    "### Gaussian Random Fields:\n",
    "<b>Set parameters and initialize the $\\zeta$ GRFs.</b>"
   ]
  },
  {
   "cell_type": "code",
   "execution_count": 16,
   "metadata": {},
   "outputs": [],
   "source": [
    "#\n",
    "# GRF Parameters\n",
    "#\n",
    "N_ensemble = 5\n",
    "logtwo_N = 10; N_field = N = 2**logtwo_N # Field size (points/pixels)\n",
    "A0 = (7.96*10**-10)# * 2*np.pi**2) # Amplitude\n",
    "ns = 1.0 # Spectral tilt\n",
    "# A0 = 1.0 # Amplitude\n",
    "# ns = 0.965 # Spectral tilt\n",
    "kmnr = 2/3 # Ratio of max (cut-off) k-freq to the Nyquist k-freq\n",
    "\n",
    "\n",
    "# seeds = np.zeros(N_ensemble)\n",
    "# for i in range(N_ensemble):\n",
    "#     seeds[i] = np.random.get_state()\n",
    "\n",
    "# zg = grf.grf_zeta_1d(N, pk_amp=A0, pk_ns=ns, kmaxknyq_ratio=kmnr, seed=seeds)\n",
    "\n",
    "\n",
    "#\n",
    "# Generate the GRF ensembles\n",
    "#\n",
    "# zg_ensemble, seeds_zg = grf_ensemble(N_ensemble, N_field, A0=7.96*10**-10, ns=1.0, kmnr=2/3, ensemble_seeds=None)\n",
    "\n",
    "zg_ensemble_train = grf_ensemble(N_ensemble, N_field, A0=7.96*10**-10, ns=1.0, kmnr=2/3, ensemble_seeds=None)\n",
    "zg_ensemble_test = grf_ensemble(N_ensemble, N_field, A0=7.96*10**-10, ns=1.0, kmnr=2/3, ensemble_seeds=None)"
   ]
  },
  {
   "cell_type": "markdown",
   "metadata": {},
   "source": [
    "### Non-Gaussian Components of Fields:\n",
    "<b>Set parameters and initialize the non-Gaussian components that will be added to the $\\zeta$ GRFs.</b>"
   ]
  },
  {
   "cell_type": "markdown",
   "metadata": {},
   "source": [
    "#### $\\Chi_e^2$ non-Gaussianity"
   ]
  },
  {
   "cell_type": "code",
   "execution_count": 17,
   "metadata": {},
   "outputs": [],
   "source": [
    "#\n",
    "# NON-G CHI_e^2 Parameters\n",
    "#\n",
    "# from nate:\n",
    "# Achi = 1.6*10**(-19)\n",
    "# Rchi = 0.64\n",
    "# Bchi = ?\n",
    "#\n",
    "Achi = 10**(-10)\n",
    "Rchi = 0.04\n",
    "# Bchi = 10**(-13)\n",
    "Bchi = 0.0\n",
    "Fng = 0.7 # Instead of FNL\n",
    "kmnr = 2/3\n",
    "\n",
    "#\n",
    "# Generate the CHI_e^2 NON-G ensembles\n",
    "#\n",
    "# zng_ensemble, seeds_zng = chisq_ensemble(N_ensemble, N_field, Achi=10**(-10), Rchi=0.04, Bchi=0.0, Fng=1.0, kmnr=kmnr, ensemble_seeds=None)\n",
    "\n",
    "zng_ensemble_train = chisq_ensemble(N_ensemble, N_field, Achi=10**(-10), Rchi=0.04, Bchi=0.0, Fng=1.0, kmnr=kmnr, ensemble_seeds=None)\n",
    "zng_ensemble_test = chisq_ensemble(N_ensemble, N_field, Achi=10**(-10), Rchi=0.04, Bchi=0.0, Fng=1.0, kmnr=kmnr, ensemble_seeds=None)"
   ]
  },
  {
   "cell_type": "code",
   "execution_count": 18,
   "metadata": {},
   "outputs": [],
   "source": [
    "#\n",
    "# Final non-Gaussian Zeta field & the seeds used to generate the fields.\n",
    "#\n",
    "# ensemble_seeds = np.array(seeds_zg, seeds_zng)\n",
    "\n",
    "z_ensemble_train = zg_ensemble_train + zng_ensemble_train\n",
    "z_ensemble_test = zg_ensemble_test + zng_ensemble_test\n",
    "\n",
    "# np.save(\"1d_z_ensemble_datasets/z_chisq_seeds741785_501982\", z_ensemble)\n",
    "np.save(\"../rica/pnong/1d_z_ensemble-datasets/1d_z_chisq-train-n{n}m{m}\".format(n=N_ensemble, m=N_field), z_ensemble_train)\n",
    "np.save(\"../rica/pnong/1d_z_ensemble-datasets/1d_z_chisq-test-n{n}m{m}\".format(n=N_ensemble, m=N_field), z_ensemble_test)"
   ]
  },
  {
   "cell_type": "markdown",
   "metadata": {},
   "source": [
    "### Final Non-Gaussian Fields:\n",
    "<b>Create the final, non-Gaussian $\\zeta$ fields using the simulated GRF + the simulated non-G component.</b>\n",
    "\n",
    "Note that 'zg1' is the field used to generate the NG component called 'ng_asymsinh'. \n",
    "So the 'zng_asymsinh' is correlated with 'zg1' but uncorrelated with 'zg2', a different Gaussian random field.\n",
    "The final $\\zeta$ field will be generated depending on the choice of 'correlation' (or lack thereof).\n",
    "\n",
    "The 'ng_chisq' non-G component is uncorrelated to both 'zng1' and 'zng2'"
   ]
  },
  {
   "cell_type": "markdown",
   "metadata": {},
   "source": [
    "### Tests"
   ]
  },
  {
   "cell_type": "code",
   "execution_count": 19,
   "metadata": {},
   "outputs": [
    {
     "data": {
      "text/plain": [
       "Text(0.94, 0.28, '$\\\\zeta_G + \\\\zeta_{NG}$')"
      ]
     },
     "execution_count": 19,
     "metadata": {},
     "output_type": "execute_result"
    },
    {
     "data": {
      "image/png": "[encoded data removed]",
      "text/plain": [
       "<Figure size 576x720 with 4 Axes>"
      ]
     },
     "metadata": {
      "needs_background": "light"
     },
     "output_type": "display_data"
    }
   ],
   "source": [
    "\"\"\"\n",
    "Same plots as above\n",
    "\"\"\"\n",
    "idxg = 0\n",
    "idxng = 0\n",
    "zg = zg_ensemble_train[idxg, :]\n",
    "zng = zng_ensemble_train[idxng, :]\n",
    "\n",
    "fontsize = 5\n",
    "\n",
    "fig, ax = plt.subplots(3, 1,  sharex=True, sharey=True, figsize=(8,10))\n",
    "\n",
    "fig.add_subplot(111, frameon=False)\n",
    "plt.tick_params(labelcolor='none', top=False, bottom=False, left=False, right=False)\n",
    "plt.ylabel(\"Amplitude\")\n",
    "plt.setp([a.get_xticklabels() for a in fig.axes[:-1]], visible=False)\n",
    "# Original NG component\n",
    "ax[0].plot(zg)\n",
    "ax[1].plot(zng, color='C1')\n",
    "ax[2].plot(zng + zg, color='C2')\n",
    "ax[2].xaxis.set_tick_params(labelbottom=True)\n",
    "plt.xlabel(r'$x$')\n",
    "\n",
    "fig.tight_layout()\n",
    "fig.subplots_adjust(hspace=0)\n",
    "\n",
    "plt.text(0.94, 0.95, r'$\\zeta_G$', fontsize=fontsize, horizontalalignment='right')\n",
    "plt.text(0.94, 0.62, r'$\\zeta_{NG}$', fontsize=fontsize, horizontalalignment='right')\n",
    "plt.text(0.94, 0.28, r'$\\zeta_G + \\zeta_{NG}$', fontsize=fontsize, horizontalalignment='right')\n",
    "\n",
    "# if correlated:\n",
    "#     plt.savefig('ICA_corr_sources.png')\n",
    "# else:\n",
    "#     plt.savefig('ICA_uncorr_sources.png')"
   ]
  },
  {
   "cell_type": "markdown",
   "metadata": {},
   "source": [
    "# RICA"
   ]
  },
  {
   "cell_type": "code",
   "execution_count": 31,
   "metadata": {},
   "outputs": [],
   "source": [
    "import numpy as np\n",
    "import torch\n",
    "from torch.nn import Parameter\n",
    "from torch.autograd import Variable\n",
    "import torchvision\n",
    "import torchvision.transforms as transforms\n",
    "import torchvision.utils as vutils\n",
    "from torch.utils.data import TensorDataset, DataLoader\n",
    "import itertools"
   ]
  },
  {
   "cell_type": "code",
   "execution_count": 32,
   "metadata": {},
   "outputs": [
    {
     "name": "stdout",
     "output_type": "stream",
     "text": [
      "5\n",
      "5\n",
      "1024\n",
      "1024\n"
     ]
    }
   ],
   "source": [
    "\"\"\"\n",
    "Reproduces Reconstruction ICA with PyTorch\n",
    "\n",
    "1. Modify `torchvision_path_cifar10` to your cifar10 path, or just any folder (it will download dataset automatically)\n",
    "2. If you do not have a GPU, set `use_gpu=False`. It's going to take more than a few minutes.. If you want to speed\n",
    "   things up a bit:\n",
    "   - change lambdas to just [2.4], this runs the script with a single lambda value only, and gives decent result\n",
    "   - maybe reduce num_epochs to 100\n",
    "   - if you want to run all the lambda values\n",
    "     - reduce patch_size to 8, which is probably 2x faster than 16\n",
    "     - reduce num_epochs to 40\n",
    "\"\"\"\n",
    "\n",
    "'''\n",
    "STEP 1: LOADING DATASET\n",
    "'''\n",
    "# # use cifar10 as dataset\n",
    "# dataset = torchvision.datasets.CIFAR10(\n",
    "#         torchvision_path_cifar10, \n",
    "#         train=True, \n",
    "#         transform=transforms.Compose([\n",
    "#             transforms.ToTensor(),\n",
    "#             transforms.Normalize(mean=[0.469, 0.481, 0.451], std=[0.239,0.245,0.272])\n",
    "#             # normalize to 0-mean, unit-variance\n",
    "#         ]), \n",
    "#         download=True)\n",
    "#\n",
    "#\n",
    "# z_chisq_npy = np.load(\"../rica/pnong/np-1d_zeta_fields/z_chisq_seeds741785_501982.npy\")\n",
    "# z_chisq = torch.Tensor(z_chisq_npy)\n",
    "# dataset = TensorDataset(z_chisq) # create your datset\n",
    "# loader = DataLoader(dataset) # create your dataloader\n",
    "\n",
    "train_array = np.load(\"../rica/pnong/1d_z_ensemble-datasets/1d_z_chisq-train-n{n}m{m}.npy\".format(n=N_ensemble, m=N_field))\n",
    "test_array = np.load(\"../rica/pnong/1d_z_ensemble-datasets/1d_z_chisq-test-n{n}m{m}.npy\".format(n=N_ensemble, m=N_field))\n",
    "\n",
    "train_tensor = torch.Tensor(train_array)\n",
    "test_tensor = torch.Tensor(test_array)\n",
    "\n",
    "train_dataset = TensorDataset(train_tensor) # create your datset\n",
    "test_dataset = TensorDataset(test_tensor) # create your datset\n",
    "\n",
    "\n",
    "train_size = train_tensor.shape[0]\n",
    "test_size = test_tensor.shape[0]\n",
    "nsamples_train = train_tensor.shape[1]\n",
    "nsamples_test = test_tensor.shape[1]\n",
    "\n",
    "print(train_size)\n",
    "print(test_size)\n",
    "print(nsamples_train)\n",
    "print(nsamples_test)"
   ]
  },
  {
   "cell_type": "code",
   "execution_count": 33,
   "metadata": {},
   "outputs": [
    {
     "name": "stdout",
     "output_type": "stream",
     "text": [
      "1.0\n",
      "100\n"
     ]
    }
   ],
   "source": [
    "'''\n",
    "STEP 2: MAKING DATASET ITERABLE\n",
    "'''\n",
    "\n",
    "use_gpu    = False              # if to use GPU\n",
    "def maybe_gpu(data):\n",
    "    return data.cuda() if use_gpu else data\n",
    "\n",
    "    \n",
    "batch_size = 5\n",
    "num_batches = train_size / batch_size\n",
    "print(num_batches)\n",
    "\n",
    "num_steps  = 20            # how many lambdas to try\n",
    "n_iters = 100              # Any diff between num iterations and num steps in this context?\n",
    "\n",
    "num_epochs = int(n_iters / num_batches) # how long each lambda runs, 200 is probably overkill\n",
    "print(num_epochs)\n",
    "\n",
    "lambdas = [l*0.4 for l in range(1,num_steps)] # the lambda values will be tried one by one\n",
    "\n",
    "num_features = 2\n",
    "\n",
    "\n",
    "train_loader = DataLoader(dataset=train_dataset, \n",
    "                            batch_size=batch_size, \n",
    "                            shuffle=True,\n",
    "                            pin_memory=True)\n",
    "\n",
    "test_loader = DataLoader(dataset=test_dataset, \n",
    "                            batch_size=batch_size, \n",
    "                            shuffle=False,\n",
    "                            pin_memory=True)\n",
    "\n",
    "\n",
    "# patch_size = 16                 # patch size to extract, 16 is max\n",
    "# weight_size= patch_size**2      # weight size is number of pixels in a patch (do not change)\n",
    "# num_filters = weight_size       # complete-ICA has same number of filters as there are pixels\n",
    "\n",
    "# torchvision_path_cifar10 = '/Users/JawanHaider/Desktop/research/research_projects/pnong_ml/rica/torchvision_cifar10'\n",
    "\n",
    "# loader = torch.utils.data.DataLoader(dataset, batch_size=1000, num_workers=2, pin_memory=True)\n",
    "# # load the entire dataset into a single Tensor, this speeds things up quite a bit\n",
    "# data_all = []\n",
    "# for pos in loader:\n",
    "#     data_all.append(pos)\n",
    "# data_all = torch.cat(data_all)      # merge into single tensor\n",
    "# data_all = z_chisq\n",
    "# data_all = data_all.mean(0)         # make black-white\n",
    "# print(data_all)\n",
    "# data_all = maybe_gpu(data_all)"
   ]
  },
  {
   "cell_type": "code",
   "execution_count": null,
   "metadata": {},
   "outputs": [],
   "source": [
    "def doit(lambd=1, epochs=num_epochs):\n",
    "    weight    = Parameter(maybe_gpu(1.0/patch_size*torch.Tensor(weight_size,num_features).normal_()))\n",
    "    optimizer = torch.optim.RMSprop([weight], 0.001, momentum=0.9)\n",
    "\n",
    "    for epoch in range(epochs):\n",
    "        for batch in range(train_dataset.size(0)/1000):\n",
    "            # select batch\n",
    "            imgs = train_dataset[batch*1000:(batch+1)*1000]\n",
    "            # capture a few patches\n",
    "            patches = []\n",
    "            for x,y in itertools.product([0, 8, 16],[0,8,16]):\n",
    "                patches.append(imgs[:, y:y+patch_size, x:x+patch_size])\n",
    "            patches = Variable(maybe_gpu(torch.cat(patches)))\n",
    "            patches = patches.view(patches.size(0), -1)\n",
    "            latents= patches.matmul(weight)\n",
    "            output = latents.matmul(weight.t())\n",
    "            diff = output - patches\n",
    "            loss_recon = (diff * diff).mean()\n",
    "            loss_latent= latents.abs().mean()\n",
    "            loss = lambd * loss_recon + loss_latent\n",
    "            # optimize\n",
    "            optimizer.zero_grad()\n",
    "            loss.backward()\n",
    "            optimizer.step()\n",
    "        print(epoch, loss.data[0], loss_recon.data[0], loss_latent.data[0])\n",
    "    weight_images = weight.data.t().contiguous().view(num_features, 1, patch_size, patch_size).cpu()\n",
    "    vutils.save_image(weight_images, 'rica_weight_images_{}.jpg'.format(lambd), nrow=patch_size, normalize=True)\n",
    "    print('Finished lambda={}'.format(lambd))\n",
    "\n",
    "\n",
    "for l in lambdas:\n",
    "    doit(l)\n",
    "\n"
   ]
  }
 ],
 "metadata": {
  "kernelspec": {
   "display_name": "Python 3.10.2 ('cosmic_nong')",
   "language": "python",
   "name": "python3"
  },
  "language_info": {
   "codemirror_mode": {
    "name": "ipython",
    "version": 3
   },
   "file_extension": ".py",
   "mimetype": "text/x-python",
   "name": "python",
   "nbconvert_exporter": "python",
   "pygments_lexer": "ipython3",
   "version": "3.10.2"
  },
  "orig_nbformat": 4,
  "vscode": {
   "interpreter": {
    "hash": "6781a5192c0b6eb04b7b9348c292a0e39c03bca97c5ebc8f1c4565fff6f215ea"
   }
  }
 },
 "nbformat": 4,
 "nbformat_minor": 2
}
