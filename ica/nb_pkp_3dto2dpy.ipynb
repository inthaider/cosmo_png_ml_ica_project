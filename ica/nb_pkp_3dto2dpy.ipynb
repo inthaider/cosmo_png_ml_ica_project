{
 "cells": [
  {
   "attachments": {},
   "cell_type": "markdown",
   "metadata": {},
   "source": [
    "# Import PkPatch fields as 2D numpy arrays"
   ]
  },
  {
   "cell_type": "code",
   "execution_count": 1,
   "metadata": {},
   "outputs": [
    {
     "ename": "ModuleNotFoundError",
     "evalue": "No module named 'get_params'",
     "output_type": "error",
     "traceback": [
      "\u001b[0;31m---------------------------------------------------------------------------\u001b[0m",
      "\u001b[0;31mModuleNotFoundError\u001b[0m                       Traceback (most recent call last)",
      "\u001b[1;32m/fs/lustre/cita/haider/projects/pnong_ml/ica/nb_pkp_3dto2dpy.ipynb Cell 2\u001b[0m in \u001b[0;36m<module>\u001b[0;34m\u001b[0m\n\u001b[1;32m      <a href='vscode-notebook-cell://ssh-remote%2Bcita_mussel/fs/lustre/cita/haider/projects/pnong_ml/ica/nb_pkp_3dto2dpy.ipynb#W1sdnNjb2RlLXJlbW90ZQ%3D%3D?line=4'>5</a>\u001b[0m \u001b[39mfrom\u001b[39;00m \u001b[39mnumpy\u001b[39;00m\u001b[39m.\u001b[39;00m\u001b[39mrandom\u001b[39;00m \u001b[39mimport\u001b[39;00m randint \u001b[39mas\u001b[39;00m nprandint\n\u001b[1;32m      <a href='vscode-notebook-cell://ssh-remote%2Bcita_mussel/fs/lustre/cita/haider/projects/pnong_ml/ica/nb_pkp_3dto2dpy.ipynb#W1sdnNjb2RlLXJlbW90ZQ%3D%3D?line=5'>6</a>\u001b[0m \u001b[39m# import matplotlib.pyplot as plt\u001b[39;00m\n\u001b[1;32m      <a href='vscode-notebook-cell://ssh-remote%2Bcita_mussel/fs/lustre/cita/haider/projects/pnong_ml/ica/nb_pkp_3dto2dpy.ipynb#W1sdnNjb2RlLXJlbW90ZQ%3D%3D?line=6'>7</a>\u001b[0m \u001b[39m# plt.rcParams.update({'font.size': 12})\u001b[39;00m\n\u001b[1;32m      <a href='vscode-notebook-cell://ssh-remote%2Bcita_mussel/fs/lustre/cita/haider/projects/pnong_ml/ica/nb_pkp_3dto2dpy.ipynb#W1sdnNjb2RlLXJlbW90ZQ%3D%3D?line=7'>8</a>\u001b[0m \n\u001b[1;32m      <a href='vscode-notebook-cell://ssh-remote%2Bcita_mussel/fs/lustre/cita/haider/projects/pnong_ml/ica/nb_pkp_3dto2dpy.ipynb#W1sdnNjb2RlLXJlbW90ZQ%3D%3D?line=8'>9</a>\u001b[0m \u001b[39m# Import local module 'get_params'\u001b[39;00m\n\u001b[1;32m     <a href='vscode-notebook-cell://ssh-remote%2Bcita_mussel/fs/lustre/cita/haider/projects/pnong_ml/ica/nb_pkp_3dto2dpy.ipynb#W1sdnNjb2RlLXJlbW90ZQ%3D%3D?line=9'>10</a>\u001b[0m \u001b[39m# to import relevant field parameters.\u001b[39;00m\n\u001b[0;32m---> <a href='vscode-notebook-cell://ssh-remote%2Bcita_mussel/fs/lustre/cita/haider/projects/pnong_ml/ica/nb_pkp_3dto2dpy.ipynb#W1sdnNjb2RlLXJlbW90ZQ%3D%3D?line=10'>11</a>\u001b[0m \u001b[39mfrom\u001b[39;00m \u001b[39mget_params\u001b[39;00m \u001b[39mimport\u001b[39;00m fields_path, l_array, l_mpc, l_buff, l_trim\n",
      "\u001b[0;31mModuleNotFoundError\u001b[0m: No module named 'get_params'"
     ]
    }
   ],
   "source": [
    "import numpy as np\n",
    "import numpy.random as nprandom\n",
    "from numpy.random import seed as npseed\n",
    "from numpy.random import rand as nprand\n",
    "from numpy.random import randint as nprandint\n",
    "# import matplotlib.pyplot as plt\n",
    "# plt.rcParams.update({'font.size': 12})\n",
    "\n",
    "# Import local module 'get_params'\n",
    "# to import relevant field parameters.\n",
    "from get_params import fields_path, l_array, l_mpc, l_buff, l_trim"
   ]
  },
  {
   "cell_type": "code",
   "execution_count": null,
   "metadata": {},
   "outputs": [],
   "source": [
    "custom_seed = 379427"
   ]
  },
  {
   "cell_type": "markdown",
   "metadata": {},
   "source": [
    "## Import Delta fields"
   ]
  },
  {
   "cell_type": "code",
   "execution_count": 2,
   "metadata": {},
   "outputs": [
    {
     "ename": "NameError",
     "evalue": "name 'fields_path' is not defined",
     "output_type": "error",
     "traceback": [
      "\u001b[0;31m---------------------------------------------------------------------------\u001b[0m",
      "\u001b[0;31mNameError\u001b[0m                                 Traceback (most recent call last)",
      "\u001b[1;32m/fs/lustre/cita/haider/projects/pnong_ml/ica/nb_pkp_3dto2dpy.ipynb Cell 5\u001b[0m in \u001b[0;36m<module>\u001b[0;34m\u001b[0m\n\u001b[1;32m      <a href='vscode-notebook-cell://ssh-remote%2Bcita_mussel/fs/lustre/cita/haider/projects/pnong_ml/ica/nb_pkp_3dto2dpy.ipynb#W4sdnNjb2RlLXJlbW90ZQ%3D%3D?line=0'>1</a>\u001b[0m \u001b[39m\"\"\"\u001b[39;00m\n\u001b[1;32m      <a href='vscode-notebook-cell://ssh-remote%2Bcita_mussel/fs/lustre/cita/haider/projects/pnong_ml/ica/nb_pkp_3dto2dpy.ipynb#W4sdnNjb2RlLXJlbW90ZQ%3D%3D?line=1'>2</a>\u001b[0m \u001b[39mImport Gaussian component of Delta field\u001b[39;00m\n\u001b[1;32m      <a href='vscode-notebook-cell://ssh-remote%2Bcita_mussel/fs/lustre/cita/haider/projects/pnong_ml/ica/nb_pkp_3dto2dpy.ipynb#W4sdnNjb2RlLXJlbW90ZQ%3D%3D?line=2'>3</a>\u001b[0m \u001b[39m\"\"\"\u001b[39;00m\n\u001b[1;32m      <a href='vscode-notebook-cell://ssh-remote%2Bcita_mussel/fs/lustre/cita/haider/projects/pnong_ml/ica/nb_pkp_3dto2dpy.ipynb#W4sdnNjb2RlLXJlbW90ZQ%3D%3D?line=3'>4</a>\u001b[0m \u001b[39m# Gaussian delta field\u001b[39;00m\n\u001b[0;32m----> <a href='vscode-notebook-cell://ssh-remote%2Bcita_mussel/fs/lustre/cita/haider/projects/pnong_ml/ica/nb_pkp_3dto2dpy.ipynb#W4sdnNjb2RlLXJlbW90ZQ%3D%3D?line=4'>5</a>\u001b[0m delta_g_file \u001b[39m=\u001b[39m fields_path\u001b[39m/\u001b[39m\u001b[39m'\u001b[39m\u001b[39mFvec_17Mpc_n1024_nb64_nt1\u001b[39m\u001b[39m'\u001b[39m\n\u001b[1;32m      <a href='vscode-notebook-cell://ssh-remote%2Bcita_mussel/fs/lustre/cita/haider/projects/pnong_ml/ica/nb_pkp_3dto2dpy.ipynb#W4sdnNjb2RlLXJlbW90ZQ%3D%3D?line=5'>6</a>\u001b[0m in_delta_g   \u001b[39m=\u001b[39m \u001b[39mopen\u001b[39m(delta_g_file, \u001b[39m'\u001b[39m\u001b[39mrb\u001b[39m\u001b[39m'\u001b[39m)\n\u001b[1;32m      <a href='vscode-notebook-cell://ssh-remote%2Bcita_mussel/fs/lustre/cita/haider/projects/pnong_ml/ica/nb_pkp_3dto2dpy.ipynb#W4sdnNjb2RlLXJlbW90ZQ%3D%3D?line=6'>7</a>\u001b[0m \u001b[39m# Read in delta_g, reshape it into an nxnxn, and then trim off buffers\u001b[39;00m\n",
      "\u001b[0;31mNameError\u001b[0m: name 'fields_path' is not defined"
     ]
    }
   ],
   "source": [
    "\"\"\"\n",
    "Import Gaussian component of Delta field\n",
    "\"\"\"\n",
    "# Gaussian delta field\n",
    "delta_g_file = fields_path/'Fvec_17Mpc_n1024_nb64_nt1'\n",
    "in_delta_g   = open(delta_g_file, 'rb')\n",
    "# Read in delta_g, reshape it into an nxnxn, and then trim off buffers\n",
    "delta_g = np.fromfile(in_delta_g,dtype=np.float32,count=-1) \n",
    "delta_g = np.reshape(delta_g, (l_array,l_array,l_array), order='F')\n",
    "delta_g = delta_g[l_buff:-l_buff,l_buff:-l_buff,l_buff:-l_buff]\n",
    "\n",
    "\"\"\"\n",
    "Import total Delta field (G + nonG)\n",
    "\"\"\"\n",
    "# Total non-Gaussian delta field\n",
    "delta_file = fields_path/'Fvec_fNL_17Mpc_n1024_nb64_nt1'\n",
    "in_delta   = open(delta_file, 'rb')\n",
    "# Read in delta, reshape it into an nxnxn, and then trim off the buffers\n",
    "delta = np.fromfile(in_delta,dtype=np.float32,count=-1)\n",
    "delta = np.reshape(delta, (l_array,l_array,l_array), order='F')\n",
    "delta = delta[l_buff:-l_buff,l_buff:-l_buff,l_buff:-l_buff]\n",
    "\n",
    "\"\"\"\n",
    "Import nonG component of Delta (delta - delta_g = delta_ng)\n",
    "\"\"\"\n",
    "# nonG component of Delta\n",
    "delta_ng = delta - delta_g \n"
   ]
  },
  {
   "cell_type": "markdown",
   "metadata": {},
   "source": [
    "## Import Zeta fields"
   ]
  },
  {
   "cell_type": "code",
   "execution_count": null,
   "metadata": {},
   "outputs": [],
   "source": [
    "\"\"\"\n",
    "Import Gaussian component of Zeta field\n",
    "\"\"\"\n",
    "# Gaussian zeta field\n",
    "zeta_g_file = fields_path/'zetag_17Mpc_n1024_nb64_nt1'\n",
    "in_zeta_g   = open(zeta_g_file, 'rb')\n",
    "# Read in zeta_g, reshape it into an nxnxn, and then trim off buffers\n",
    "zeta_g = np.fromfile(in_zeta_g,dtype=np.float32,count=-1)\n",
    "zeta_g = np.reshape(zeta_g, (l_array,l_array,l_array), order='F')\n",
    "zeta_g = zeta_g[l_buff:-l_buff,l_buff:-l_buff,l_buff:-l_buff]\n",
    "\n",
    "\"\"\"\n",
    "Import total Zeta field (G + nonG)\n",
    "\"\"\"\n",
    "# non-Gaussian zeta field\n",
    "zeta_file = fields_path/'zetang_17Mpc_n1024_nb64_nt1'\n",
    "in_zeta   = open(zeta_file, 'rb')\n",
    "# Read in zeta, reshape it into an nxnxn, and then trim off the buffers\n",
    "zeta = np.fromfile(in_zeta,dtype=np.float32,count=-1)\n",
    "zeta = np.reshape(zeta, (l_array,l_array,l_array), order='F')\n",
    "zeta = zeta[l_buff:-l_buff,l_buff:-l_buff,l_buff:-l_buff]\n",
    "\n",
    "\"\"\"\n",
    "Import nonG component of Zeta (zeta - zeta_g = zeta_ng)\n",
    "\"\"\"\n",
    "# nonG component of Zeta\n",
    "zeta_ng = zeta - zeta_g "
   ]
  },
  {
   "cell_type": "markdown",
   "metadata": {},
   "source": [
    "## Initialize a meshgrid"
   ]
  },
  {
   "cell_type": "code",
   "execution_count": null,
   "metadata": {},
   "outputs": [
    {
     "data": {
      "text/plain": [
       "'\\nYou now have zeta_g, delta_g, and delta, which are three n-by-n-by-n NumPy arrays representing a gaussian zeta field, a gaussian density field (specifically rho bar times delta, that we talked about today) and a non-gaussian delta field. \\n'"
      ]
     },
     "metadata": {},
     "output_type": "display_data"
    }
   ],
   "source": [
    "# Defines X,Y,Z as meshgrid\n",
    "edges = np.linspace( -l_mpc/2 , l_mpc/2 , l_array+1 )\n",
    "X,Y,Z = np.meshgrid(edges,edges,edges,indexing='ij')\n",
    "\n",
    "\n",
    "\"\"\"\n",
    "You now have zeta_g, delta_g, and delta, which are three n-by-n-by-n NumPy arrays representing a gaussian zeta field, a gaussian density field (specifically rho bar times delta, that we talked about today) and a non-gaussian delta field. \n",
    "\"\"\""
   ]
  },
  {
   "cell_type": "markdown",
   "metadata": {},
   "source": [
    "## Check random entries from each of the extracted fields"
   ]
  },
  {
   "cell_type": "code",
   "execution_count": null,
   "metadata": {},
   "outputs": [
    {
     "name": "stdout",
     "output_type": "stream",
     "text": [
      "Delta Gauss-comp (75, 535, 295):       8.289872\n",
      "Delta nonG-comp (75, 535, 295):         -24865.209\n",
      "Delta total (75, 535, 295):             -24856.92\n",
      "\n",
      "Zeta Gauss-comp (75, 535, 295):        3.3018678e-11\n",
      "Zeta nonG-comp (75, 535, 295):          2.2884975e-11\n",
      "Zeta total (75, 535, 295):              5.5903653e-11\n"
     ]
    }
   ],
   "source": [
    "# Random coordinates\n",
    "x, y, z = nprandint(0, l_trim, 3)\n",
    "\n",
    "print('Delta Gauss-comp ({}, {}, {}):      '.format(x, y, z), delta_g[x,y,z])\n",
    "print('Delta nonG-comp ({}, {}, {}):        '.format(x, y, z), delta_ng[x,y,z])\n",
    "print('Delta total ({}, {}, {}):            '.format(x, y, z), delta[x,y,z])\n",
    "\n",
    "print('\\nZeta Gauss-comp ({}, {}, {}):       '.format(x, y, z), zeta_g[x,y,z])\n",
    "print('Zeta nonG-comp ({}, {}, {}):         '.format(x, y, z), zeta_ng[x,y,z])\n",
    "print('Zeta total ({}, {}, {}):             '.format(x, y, z), zeta[x,y,z])"
   ]
  }
 ],
 "metadata": {
  "interpreter": {
   "hash": "e92ba12bfe68a05eeab84e5337b7e43a633e4e42b0d1da1ed095f680f6572411"
  },
  "kernelspec": {
   "display_name": "Python 3.10.2 ('cosmic_nong')",
   "language": "python",
   "name": "python3"
  },
  "language_info": {
   "codemirror_mode": {
    "name": "ipython",
    "version": 3
   },
   "file_extension": ".py",
   "mimetype": "text/x-python",
   "name": "python",
   "nbconvert_exporter": "python",
   "pygments_lexer": "ipython3",
   "version": "3.10.6"
  },
  "orig_nbformat": 4
 },
 "nbformat": 4,
 "nbformat_minor": 2
}
