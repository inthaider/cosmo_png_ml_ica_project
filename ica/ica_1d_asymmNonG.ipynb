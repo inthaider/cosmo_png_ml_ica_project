{
 "cells": [
  {
   "cell_type": "markdown",
   "metadata": {},
   "source": [
    "# ICA on Asymmetrical nonG Field\n",
    "#### Working with Gaussian random field (GRF) + asymmetrical nonG field"
   ]
  },
  {
   "cell_type": "markdown",
   "metadata": {
    "colab_type": "text",
    "id": "scu11DGRYPFF"
   },
   "source": [
    "<b>Import modules</b>"
   ]
  },
  {
   "cell_type": "code",
   "execution_count": null,
   "metadata": {
    "colab": {},
    "colab_type": "code",
    "id": "lyha9MtG5Oj8",
    "scrolled": true
   },
   "outputs": [],
   "source": [
    "import numpy as np\n",
    "import matplotlib.pyplot as plt\n",
    "plt.rcParams.update({'font.size': 16})\n",
    "import matplotlib.gridspec as grd\n",
    "import modules.peaks as px\n",
    "import modules.fouriertransform as ft\n",
    "import modules.correlationfunctions as cf\n",
    "import modules.gaussianfield as grf\n",
    "import modules.filters as flt\n",
    "import scipy.interpolate as interpolate\n",
    "import scipy.signal as signal\n",
    "import scipy.stats as stats"
   ]
  },
  {
   "cell_type": "markdown",
   "metadata": {},
   "source": [
    "<b>Set parameters and initialize GRFs</b>"
   ]
  },
  {
   "cell_type": "code",
   "execution_count": null,
   "metadata": {},
   "outputs": [],
   "source": [
    "# Parameters\n",
    "logtwo_N = 20\n",
    "N = 2**logtwo_N\n",
    "BoxSize = 512.0\n",
    "dx = BoxSize/N\n",
    "h = 0.695\n",
    "k0 = 0.02 \n",
    "A0 = (7.96*10**-10)# * 2*np.pi**2)\n",
    "ns = 0.965\n",
    "seed = 50\n",
    "dk = (2*np.pi) / BoxSize # Bin size (for power spectrum)\n",
    "Pk = lambda k: A0*(k/k0)**(ns-1)*k**-3\n",
    "\n",
    "# Other NG parameters\n",
    "alpha = 1.0\n",
    "nu = 2\n",
    "c, w = 2, .2\n",
    "\n",
    "# Generate the grfs using gaussianfield\n",
    "g = grf.gaussian_random_field_1D(N, BoxSize=N, seed=seed)\n",
    "f = grf.gaussian_random_field_1D(N, BoxSize=N, seed=10000)"
   ]
  },
  {
   "cell_type": "code",
   "execution_count": null,
   "metadata": {},
   "outputs": [],
   "source": [
    "# fig, ax = plt.subplots(1,figsize=(14,8))\n",
    "\n",
    "# ax.plot(g)\n",
    "# ax.set_title(r'$\\zeta_{G}$')\n",
    "# ax.set(xlabel=r'$x$', ylabel=\"Amplitude\")\n",
    "# fig.tight_layout()\n",
    "# print(np.mean(g))"
   ]
  },
  {
   "cell_type": "code",
   "execution_count": null,
   "metadata": {},
   "outputs": [],
   "source": [
    "# g_ft = np.fft.fft(g)\n",
    "# g_ps = np.absolute(g_ft)**2\n",
    "\n",
    "# freqs = np.fft.fftfreq(g.size)\n",
    "\n",
    "# idx = np.argsort(freqs)\n",
    "\n",
    "# # P, k = cf.angular_average(g_ps, np.arange(0, g_ps[idx].size), 100)\n",
    "\n",
    "# plt.plot(freqs[idx], g_ps[idx]*freqs[idx])\n",
    "# # plt.ylim(-10, 10000000)\n",
    "# plt.show()"
   ]
  },
  {
   "cell_type": "markdown",
   "metadata": {
    "colab_type": "text",
    "id": "nPJ3XdQeYJ87"
   },
   "source": [
    "## Generate nonG fields"
   ]
  },
  {
   "cell_type": "code",
   "execution_count": null,
   "metadata": {
    "colab": {},
    "colab_type": "code",
    "id": "luY8xBsrzIIn"
   },
   "outputs": [],
   "source": [
    "# Generate nonG fields\n",
    "\n",
    "# Extract the standard deviation of the gaussian fields\n",
    "s = g.std()\n",
    "sf = f.std()\n",
    "\n",
    "# Generate the non-gaussian components that will be added to the gaussian fields\n",
    "# Note that 'g' is the field used to generate the NG components, so the NG\n",
    "# is correlated with 'g', and 'f' is a different Gaussian random field with\n",
    "# which the NG is uncorrelated\n",
    "NG_symsinh = px.map_sinh(g, nu*s, alpha) - g\n",
    "NG_asymsinh = px.map_asymm_sinh(g, nu*s, alpha) - g\n",
    "NG_smooth_bump = px.map_smooth_bump(g, c, w) - g\n",
    "NG_squared = g**2 - g\n",
    "\n",
    "# Generate the correlated NG zeta fields \n",
    "zeta_NG_symsinh = g + NG_symsinh\n",
    "zeta_NG_asymsinh = g + NG_asymsinh\n",
    "zeta_NG_smooth_bump = g + NG_smooth_bump\n",
    "zeta_NG_squared = g + g**2\n",
    "\n",
    "# Generate the uncorrelated NG zeta fields \n",
    "zeta_NG_symsinh_uncorr = f + NG_symsinh\n",
    "zeta_NG_asymsinh_uncorr = f + NG_asymsinh\n",
    "zeta_NG_smooth_bump_uncorr = f + NG_smooth_bump\n",
    "zeta_NG_squared_uncorr = f + g**2\n",
    "\n",
    "# Test the asymmetric sinh function applied to a linear function tf\n",
    "tf = np.linspace(-4, 4, N)\n",
    "zeta_NG_asymsinh_test = px.map_asymm_sinh(tf, nu*s, alpha) - tf\n",
    "\n",
    "# Generate gaussian distribution from mean and std of NG zeta fields\n",
    "# ???\n",
    "\n",
    "## Why are we getting an error for invalid value in power?"
   ]
  },
  {
   "cell_type": "markdown",
   "metadata": {
    "colab_type": "text",
    "id": "enUHWngKM7x3"
   },
   "source": [
    "# Independent Component Analysis\n",
    "\n",
    "$\\texttt{sklearn}$ module contains contains a $\\texttt{FastICA}$ capability. We can chose the cost function (measure of non-Gaussianity): $\\texttt{cube}$ for kurtosis, and $\\texttt{logcosh}$ for negentropy approximation.\n",
    "\n"
   ]
  },
  {
   "cell_type": "code",
   "execution_count": null,
   "metadata": {
    "colab": {},
    "colab_type": "code",
    "id": "gLskRi0BOfru"
   },
   "outputs": [],
   "source": [
    "from sklearn.decomposition import FastICA\n",
    "import numpy as np\n",
    "import matplotlib.pyplot as plt\n",
    "import modules.colorednoise as cn"
   ]
  },
  {
   "cell_type": "markdown",
   "metadata": {},
   "source": [
    "## Setup for two different linear combinations (mixed, observed signals) of same zeta(G) and zeta(NG) "
   ]
  },
  {
   "cell_type": "code",
   "execution_count": null,
   "metadata": {},
   "outputs": [],
   "source": [
    "# Note that 'g' is the field used to generate the NG component called 'NG_asymsinh', \n",
    "# so 'NG_asymsinh' is correlated with 'g', and 'f' is a different Gaussian random \n",
    "# field with which the 'NG_asymsinh' is uncorrelated. \n",
    "\n",
    "source_g = f\n",
    "source_ng = NG_asymsinh\n",
    "size_field = source_g.size\n",
    "\n",
    "source_components = np.vstack([source_g, source_ng])\n",
    "num_comps = 2\n",
    "num_samples = 2\n",
    "\n",
    "mix_matrix = (1+np.random.random((num_samples,num_comps)))/2.0\n",
    "mix_signal_pre = np.dot(mix_matrix, source_components)"
   ]
  },
  {
   "cell_type": "code",
   "execution_count": null,
   "metadata": {},
   "outputs": [],
   "source": [
    "correlated = False"
   ]
  },
  {
   "cell_type": "markdown",
   "metadata": {},
   "source": [
    "## Preprocess the fields"
   ]
  },
  {
   "cell_type": "code",
   "execution_count": null,
   "metadata": {},
   "outputs": [],
   "source": [
    "\"\"\"\n",
    "Handling the two observed signals separately. \n",
    "Preprocessing involves mean subtraction and dividing by the variance (in k-space).\n",
    "\"\"\"\n",
    "\n",
    "# Sample 1\n",
    "sample1_pre = mix_signal_pre[0, :]\n",
    "m1 = np.mean(sample1_pre)\n",
    "sample1_ms = sample1_pre - m1 #Subtracting the mean\n",
    "\n",
    "sample1_ft = np.fft.fft(sample1_ms)\n",
    "sample1_sqrtpower = np.absolute(sample1_ft) #k-space variance\n",
    "\n",
    "sample1_ms_white_ft = sample1_ft / sample1_sqrtpower * (size_field**(1/2)) #Whitening the field\n",
    "\n",
    "sample1 = np.fft.ifft(sample1_ms_white_ft).real\n",
    "\n",
    "# Sample 2 - same procedure as above\n",
    "sample2_pre = mix_signal_pre[1, :]\n",
    "m2 = np.mean(sample2_pre)\n",
    "sample2_ms = sample2_pre - m2\n",
    "\n",
    "sample2_ft = np.fft.fft(sample2_ms)\n",
    "sample2_sqrtpower = np.absolute(sample2_ft)\n",
    "\n",
    "sample2_ms_white_ft = sample2_ft / sample2_sqrtpower * (size_field**(1/2))\n",
    "\n",
    "sample2 = np.fft.ifft(sample2_ms_white_ft).real\n",
    "\n",
    "# Gaussian - same procedure as above\n",
    "mg = np.mean(source_g)\n",
    "gauss_ms = source_g - mg\n",
    "\n",
    "gauss_ft = np.fft.fft(gauss_ms)\n",
    "gauss_sqrtpower = np.absolute(gauss_ft)\n",
    "\n",
    "gauss_ms_white_ft = gauss_ft / gauss_sqrtpower * (size_field**(1/2))\n",
    "\n",
    "gauss_white = np.fft.ifft(gauss_ms_white_ft).real\n",
    "\n",
    "# Mix the samples back again\n",
    "mix_signal = np.vstack([sample1, sample2])\n",
    "\n",
    "# plt.figure(figsize=(18,5))\n",
    "# plt.plot(sample1)\n",
    "\n",
    "# plt.figure(figsize=(18,5))\n",
    "# plt.plot(sample2)"
   ]
  },
  {
   "cell_type": "markdown",
   "metadata": {
    "colab_type": "text",
    "id": "6q-eu2NOREqe"
   },
   "source": [
    "## Plot the sources"
   ]
  },
  {
   "cell_type": "code",
   "execution_count": null,
   "metadata": {
    "colab": {},
    "colab_type": "code",
    "id": "AMKIHtK5RH9F"
   },
   "outputs": [],
   "source": [
    "\"\"\"\n",
    "Unprocessed source components\n",
    "\"\"\"\n",
    "\n",
    "if correlated:\n",
    "    k = 'G1'\n",
    "    t = 'Correlated'\n",
    "else:\n",
    "    k = 'G2'\n",
    "    t = 'Uncorrelated'\n",
    "    \n",
    "plt.figure(figsize=(18,12))\n",
    "plt.suptitle(r'Unprocessed Source Components ({0} NG Case)'.format(t))\n",
    "\n",
    "plt.subplot(221)\n",
    "plt.plot(source_g)\n",
    "plt.title(r'$\\zeta_{{{0}}}$'.format(k))\n",
    "plt.xlabel(r'$x$')\n",
    "plt.ylabel(\"Amplitude\")\n",
    "\n",
    "plt.subplot(222)\n",
    "plt.plot(source_ng, color='C1')\n",
    "plt.title(r'$\\zeta_{NG}$')\n",
    "plt.xlabel(r'$x$')\n",
    "plt.ylabel(\"Amplitude\")\n",
    "\n",
    "plt.subplot(223)\n",
    "plt.plot(source_ng + source_g, color='C2')\n",
    "plt.title(r'$\\zeta_{{{0}}}+\\zeta_{{NG}}$'.format(k))\n",
    "plt.xlabel(r'$x$')\n",
    "plt.ylabel(\"Amplitude\")\n",
    "\n",
    "# if correlated:\n",
    "#     plt.savefig('ICA_corr_sources.png')\n",
    "# else:\n",
    "#     plt.savefig('ICA_uncorr_sources.png')"
   ]
  },
  {
   "cell_type": "code",
   "execution_count": null,
   "metadata": {},
   "outputs": [],
   "source": [
    "\"\"\"\n",
    "Same plots as above\n",
    "\"\"\"\n",
    "\n",
    "if correlated:\n",
    "    k = 'G1'\n",
    "    t = 'Correlated'\n",
    "else:\n",
    "    k = 'G2'\n",
    "    t = 'Uncorrelated'\n",
    "\n",
    "# ax1.plot(source_g)\n",
    "# ax1.set_title(r'$\\zeta_{{{0}}}$'.format(k))\n",
    "\n",
    "# ax2.plot(source_ng, color='C1')\n",
    "# ax2.set_title(r'$\\zeta_{NG}$')\n",
    "\n",
    "# ax3.plot(source_ng + source_g, color='C2')\n",
    "# ax3.set_title(r'$\\zeta_{{{0}}}+\\zeta_{{NG}}$'.format(k))\n",
    "\n",
    "fig, ax = plt.subplots(3, 1,  sharex=True, sharey=True, figsize=(14,20))\n",
    "\n",
    "fig.add_subplot(111, frameon=False)\n",
    "plt.tick_params(labelcolor='none', top=False, bottom=False, left=False, right=False)\n",
    "plt.ylabel(\"Amplitude\")\n",
    "plt.setp([a.get_xticklabels() for a in fig.axes[:-1]], visible=False)\n",
    "# Original NG component\n",
    "ax[0].plot(source_g)\n",
    "ax[1].plot(source_ng, color='C1')\n",
    "ax[2].plot(source_ng + source_g, color='C2')\n",
    "ax[2].xaxis.set_tick_params(labelbottom=True)\n",
    "plt.xlabel(r'$x$')\n",
    "\n",
    "fig.tight_layout()\n",
    "fig.subplots_adjust(hspace=0)\n",
    "\n",
    "plt.text(0.94, 0.95, r'$\\zeta_{{{0}}}$'.format(k), fontsize=30, horizontalalignment='right')\n",
    "plt.text(0.94, 0.62, r'$\\zeta_{NG_1}$', fontsize=30, horizontalalignment='right')\n",
    "plt.text(0.94, 0.28, r'$\\zeta_{{{0}}}+\\zeta_{{NG_1}}$'.format(k), fontsize=30, horizontalalignment='right')\n",
    "\n",
    "# if correlated:\n",
    "#     plt.savefig('ICA_corr_sources.png')\n",
    "# else:\n",
    "#     plt.savefig('ICA_uncorr_sources.png')"
   ]
  },
  {
   "cell_type": "markdown",
   "metadata": {
    "colab_type": "text",
    "id": "w0Pc7Ra2QfWm"
   },
   "source": [
    "## Plot the inputs"
   ]
  },
  {
   "cell_type": "code",
   "execution_count": null,
   "metadata": {
    "colab": {},
    "colab_type": "code",
    "id": "heEyjw8eRJMs"
   },
   "outputs": [],
   "source": [
    "plt.figure(figsize=(18,6))\n",
    "plt.suptitle(r'Preprocessed Input Signals for ICA ({0} NG Case)'.format(t))\n",
    "\n",
    "plt.subplot(121)\n",
    "plt.plot(sample1, color='C4')\n",
    "plt.title(r'Signal 1$= \\alpha_{{11}} \\zeta_{{{0}}} + \\alpha_{{12}} \\zeta_{{NG}}$'.format(k))\n",
    "plt.xlabel(r'$x$')\n",
    "plt.ylabel(\"Amplitude\")\n",
    "\n",
    "plt.subplot(122)\n",
    "plt.plot(sample2, color='C4')\n",
    "plt.title(r'Signal 2$=\\alpha_{{21}} \\zeta_{{{0}}} + \\alpha_{{22}} \\zeta_{{NG}}$'.format(k))\n",
    "plt.xlabel(r'$x$')\n",
    "plt.ylabel(\"Amplitude\")\n",
    "\n",
    "fig.tight_layout()\n",
    "\n",
    "# if correlated:\n",
    "#     plt.savefig('ICA_corr_mix.png')\n",
    "# else:\n",
    "#     plt.savefig('ICA_uncorr_mix.png')"
   ]
  },
  {
   "cell_type": "markdown",
   "metadata": {
    "colab_type": "text",
    "id": "ivveCCz9SL5b"
   },
   "source": [
    "## Apply $\\texttt{FastICA}$"
   ]
  },
  {
   "cell_type": "code",
   "execution_count": null,
   "metadata": {},
   "outputs": [],
   "source": [
    "ica = FastICA(n_components=num_comps, algorithm='deflation', max_iter=10000, tol=1e-4, fun='logcosh')\n",
    "sl = ica.fit_transform(mix_signal.T)"
   ]
  },
  {
   "cell_type": "code",
   "execution_count": null,
   "metadata": {},
   "outputs": [],
   "source": [
    "# Extract the individual components\n",
    "\n",
    "negen_m1 = np.mean(sl[:, 0])\n",
    "negen_m2 = np.mean(sl[:, 1])\n",
    "negen_comp1 = -sl[:, 0]\n",
    "negen_comp2 = sl[:, 1]"
   ]
  },
  {
   "cell_type": "markdown",
   "metadata": {
    "colab_type": "text",
    "id": "jVN_rUbySfm3"
   },
   "source": [
    "## Plot extracted signals"
   ]
  },
  {
   "cell_type": "code",
   "execution_count": null,
   "metadata": {},
   "outputs": [],
   "source": [
    "# Negentropy plots\n",
    "\n",
    "plt.figure(figsize=(18,6))\n",
    "plt.suptitle('ICA-separated Components Using Negentropy ({0} NG Case)'.format(t))\n",
    "\n",
    "plt.subplot(121)\n",
    "plt.plot(negen_comp2)\n",
    "plt.title(r'$\\zeta_{{{0}}}$'.format(k))\n",
    "plt.xlabel(r'$x$')\n",
    "plt.ylabel(\"Amplitude\")\n",
    "\n",
    "plt.subplot(122)\n",
    "plt.plot(negen_comp1, color='C1')\n",
    "plt.title(r'$\\zeta_{NG}$')\n",
    "plt.xlabel(r'$x$')\n",
    "plt.ylabel(\"Amplitude\")\n",
    "\n",
    "fig.tight_layout()\n",
    "# if correlated:\n",
    "#     plt.savefig('ICA_corr_negentropy.png')\n",
    "# else:\n",
    "#     plt.savefig('ICA_uncorr_negentropy.png')"
   ]
  },
  {
   "cell_type": "code",
   "execution_count": null,
   "metadata": {},
   "outputs": [],
   "source": [
    "\"\"\"\n",
    "Gaussian component plots\n",
    "\"\"\"\n",
    "\n",
    "plt.figure(figsize=(14,10))\n",
    "plt.suptitle(r'Source $\\zeta_{{{0}}}$ vs. ICA-separated $\\zeta_{{{0}}}$ (Uncorrelated NG Case)'.format(k))\n",
    "\n",
    "# Original Gaussian component\n",
    "plt.subplot(211)\n",
    "plt.plot(source_g)\n",
    "plt.title(r'Source $\\zeta_{{{0}}}$'.format(k))\n",
    "plt.xlabel(r'$x$')\n",
    "plt.ylabel(\"Amplitude\")\n",
    "\n",
    "plt.subplot(212)\n",
    "plt.plot(negen_comp2)\n",
    "plt.title(r'ICA-separated $\\zeta_{{{0}}}$ Using Negentropy'.format(k))\n",
    "plt.xlabel(r'$x$')\n",
    "plt.ylabel(\"Amplitude\")\n",
    "\n",
    "fig.tight_layout()"
   ]
  },
  {
   "cell_type": "code",
   "execution_count": null,
   "metadata": {},
   "outputs": [],
   "source": [
    "\"\"\"\n",
    "Non-Gaussian component plots\n",
    "\"\"\"\n",
    "\n",
    "fig, ax = plt.subplots(2, 1, sharex=True, sharey=True, figsize=(14,14))\n",
    "\n",
    "fig.add_subplot(111, frameon=False)\n",
    "plt.tick_params(labelcolor='none', top=False, bottom=False, left=False, right=False)\n",
    "plt.ylabel(\"Amplitude\")\n",
    "plt.setp([a.get_xticklabels() for a in fig.axes[:-1]], visible=False)\n",
    "\n",
    "# Original NG component\n",
    "ax[0].plot(source_ng, color='C1')\n",
    "ax[1].plot(-250*negen_comp1, color='C1')\n",
    "ax[1].xaxis.set_tick_params(labelbottom=True)\n",
    "plt.xlabel(r'$x$')\n",
    "\n",
    "fig.tight_layout()\n",
    "fig.subplots_adjust(hspace=0)\n",
    "\n",
    "plt.text(0.9, 0.9, r'Source $\\zeta_{NG_1}$', fontsize=30, horizontalalignment='right')\n",
    "plt.text(0.9, 0.4, r'Extracted $\\zeta_{NG_1}$', fontsize=30, horizontalalignment='right')"
   ]
  },
  {
   "cell_type": "markdown",
   "metadata": {},
   "source": [
    "## Plot scatter of source and extracted NG "
   ]
  },
  {
   "cell_type": "code",
   "execution_count": null,
   "metadata": {},
   "outputs": [],
   "source": [
    "plt.figure(figsize=(11,10))\n",
    "\n",
    "# plt.subplot(211)\n",
    "# plt.axhline(color='black', ls='--', linewidth=1)\n",
    "# plt.scatter(source_ng, kurt_comp1, color='C1')\n",
    "# plt.title(r'Kurtosis-extracted $\\zeta_{NG}$ vs Source $\\zeta_{NG}$')\n",
    "# plt.xlabel(r'Source $\\zeta_{NG}$')\n",
    "# plt.ylabel(r'Extracted $\\zeta_{NG}$')\n",
    "# plt.ylim(-0.01, 0.02) \n",
    "\n",
    "\n",
    "plt.subplot(211)\n",
    "plt.axhline(color='black', ls='--', linewidth=1)\n",
    "plt.scatter(source_ng, negen_comp1, color='C2')\n",
    "plt.title(r'ICA-separated $\\zeta_{{NG}}$ vs Source $\\zeta_{{NG}}$ Using Negentropy ({0} NG Case)'.format(t))\n",
    "plt.xlabel(r'Source $\\zeta_{NG}$')\n",
    "plt.ylabel(r'Extracted $\\zeta_{NG}$')\n",
    "# plt.ylim(-0.01, 0.02) \n",
    "\n",
    "# if correlated:\n",
    "#     plt.savefig('ICA_corr_scatter.png')\n",
    "# else:\n",
    "#     plt.savefig('ICA_uncorr_scatter.png')"
   ]
  },
  {
   "cell_type": "code",
   "execution_count": null,
   "metadata": {},
   "outputs": [],
   "source": [
    "source_ng_new = source_ng / source_ng.std()\n",
    "negen_new = negen_comp1 / negen_comp1.std()\n",
    "\n",
    "# source_ng_new = source_ng_new - source_ng_new.mean()\n",
    "# negen_new = negen_new - negen_new.mean()\n",
    "\n",
    "fig, ax = plt.subplots(1,figsize=(14,14))\n",
    "\n",
    "ax.axhline(color='black', ls='--', linewidth=1)\n",
    "ax.scatter(source_ng_new, negen_new, color='C2')\n",
    "ax.set(xlabel=r'Source $\\zeta_{NG_1}$', ylabel=r'Extracted $\\zeta_{NG_1}$')\n",
    "fig.tight_layout()"
   ]
  },
  {
   "cell_type": "code",
   "execution_count": null,
   "metadata": {},
   "outputs": [],
   "source": []
  }
 ],
 "metadata": {
  "colab": {
   "collapsed_sections": [
    "hntEov2lpLMZ",
    "3X8GGpfMYvDZ",
    "m2exTPmFpsS4",
    "V0TXa7VMqQTB",
    "aJLKd9h8rVPL",
    "B8PDzJPztEhZ",
    "OOnN8H93xMJA",
    "0AV3gvQOyJzS",
    "6a9s8iPJ1SNx",
    "yxQ39rgL_F0G",
    "scu11DGRYPFF",
    "nPJ3XdQeYJ87",
    "y2nPFXu54XL-",
    "_qSUw482VxuN",
    "bAB73_oU_LDN",
    "enUHWngKM7x3"
   ],
   "name": "nonG_notebook.ipynb",
   "provenance": [],
   "version": "0.3.2"
  },
  "interpreter": {
   "hash": "1666c67192fa70062dc339cffc0cc38ef9c2ec362c91ccdaf1ac5edc8ba78950"
  },
  "kernelspec": {
   "display_name": "Python 3.7.7 64-bit ('cosmic': conda)",
   "language": "python",
   "name": "python3"
  },
  "language_info": {
   "codemirror_mode": {
    "name": "ipython",
    "version": 3
   },
   "file_extension": ".py",
   "mimetype": "text/x-python",
   "name": "python",
   "nbconvert_exporter": "python",
   "pygments_lexer": "ipython3",
   "version": "3.10.4"
  }
 },
 "nbformat": 4,
 "nbformat_minor": 1
}
