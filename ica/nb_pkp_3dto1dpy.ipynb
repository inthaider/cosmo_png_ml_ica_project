{
 "cells": [
  {
   "cell_type": "markdown",
   "metadata": {},
   "source": [
    "# Import PkPatch fields as numpy arrays"
   ]
  },
  {
   "cell_type": "code",
   "execution_count": null,
   "metadata": {},
   "outputs": [],
   "source": [
    "import numpy as np\n",
    "import numpy.random as nprandom\n",
    "from numpy.random import seed as npseed\n",
    "from numpy.random import rand as nprand\n",
    "from numpy.random import randint as nprandint\n",
    "# import matplotlib.pyplot as plt\n",
    "# plt.rcParams.update({'font.size': 12})\n",
    "\n",
    "# Import local module 'get_params'\n",
    "# to import relevant field parameters.\n",
    "from get_params import fields_path, l_array, l_mpc, l_buff, l_trim"
   ]
  },
  {
   "cell_type": "code",
   "execution_count": null,
   "metadata": {},
   "outputs": [],
   "source": [
    "custom_seed = 379427"
   ]
  },
  {
   "cell_type": "markdown",
   "metadata": {},
   "source": [
    "## Import Delta fields"
   ]
  },
  {
   "cell_type": "code",
   "execution_count": null,
   "metadata": {},
   "outputs": [],
   "source": [
    "\"\"\"\n",
    "Import Gaussian component of Delta field\n",
    "\"\"\"\n",
    "# Gaussian delta field\n",
    "delta_g_file = fields_path/'Fvec_17Mpc_n1024_nb64_nt1'\n",
    "in_delta_g   = open(delta_g_file, 'rb')\n",
    "# Read in delta_g, reshape it into an nxnxn, and then trim off buffers\n",
    "delta_g = np.fromfile(in_delta_g,dtype=np.float32,count=-1) \n",
    "delta_g = np.reshape(delta_g, (l_array,l_array,l_array), order='F')\n",
    "delta_g = delta_g[l_buff:-l_buff,l_buff:-l_buff,l_buff:-l_buff]\n",
    "\n",
    "\"\"\"\n",
    "Import total Delta field (G + nonG)\n",
    "\"\"\"\n",
    "# Total non-Gaussian delta field\n",
    "delta_file = fields_path/'Fvec_fNL_17Mpc_n1024_nb64_nt1'\n",
    "in_delta   = open(delta_file, 'rb')\n",
    "# Read in delta, reshape it into an nxnxn, and then trim off the buffers\n",
    "delta = np.fromfile(in_delta,dtype=np.float32,count=-1)\n",
    "delta = np.reshape(delta, (l_array,l_array,l_array), order='F')\n",
    "delta = delta[l_buff:-l_buff,l_buff:-l_buff,l_buff:-l_buff]\n",
    "\n",
    "\"\"\"\n",
    "Import nonG component of Delta (delta - delta_g = delta_ng)\n",
    "\"\"\"\n",
    "# nonG component of Delta\n",
    "delta_ng = delta - delta_g \n"
   ]
  },
  {
   "cell_type": "markdown",
   "metadata": {},
   "source": [
    "## Import Zeta fields"
   ]
  },
  {
   "cell_type": "code",
   "execution_count": null,
   "metadata": {},
   "outputs": [],
   "source": [
    "\"\"\"\n",
    "Import Gaussian component of Zeta field\n",
    "\"\"\"\n",
    "# Gaussian zeta field\n",
    "zeta_g_file = fields_path/'zetag_17Mpc_n1024_nb64_nt1'\n",
    "in_zeta_g   = open(zeta_g_file, 'rb')\n",
    "# Read in zeta_g, reshape it into an nxnxn, and then trim off buffers\n",
    "zeta_g = np.fromfile(in_zeta_g,dtype=np.float32,count=-1)\n",
    "zeta_g = np.reshape(zeta_g, (l_array,l_array,l_array), order='F')\n",
    "zeta_g = zeta_g[l_buff:-l_buff,l_buff:-l_buff,l_buff:-l_buff]\n",
    "\n",
    "\"\"\"\n",
    "Import total Zeta field (G + nonG)\n",
    "\"\"\"\n",
    "# non-Gaussian zeta field\n",
    "zeta_file = fields_path/'zetang_17Mpc_n1024_nb64_nt1'\n",
    "in_zeta   = open(zeta_file, 'rb')\n",
    "# Read in zeta, reshape it into an nxnxn, and then trim off the buffers\n",
    "zeta = np.fromfile(in_zeta,dtype=np.float32,count=-1)\n",
    "zeta = np.reshape(zeta, (l_array,l_array,l_array), order='F')\n",
    "zeta = zeta[l_buff:-l_buff,l_buff:-l_buff,l_buff:-l_buff]\n",
    "\n",
    "\"\"\"\n",
    "Import nonG component of Zeta (zeta - zeta_g = zeta_ng)\n",
    "\"\"\"\n",
    "# nonG component of Zeta\n",
    "zeta_ng = zeta - zeta_g "
   ]
  },
  {
   "cell_type": "markdown",
   "metadata": {},
   "source": [
    "## Initialize a meshgrid"
   ]
  },
  {
   "cell_type": "code",
   "execution_count": null,
   "metadata": {},
   "outputs": [
    {
     "data": {
      "text/plain": [
       "'\\nYou now have zeta_g, delta_g, and delta, which are three n-by-n-by-n NumPy arrays representing a gaussian zeta field, a gaussian density field (specifically rho bar times delta, that we talked about today) and a non-gaussian delta field. \\n'"
      ]
     },
     "metadata": {},
     "output_type": "display_data"
    }
   ],
   "source": [
    "# Defines X,Y,Z as meshgrid\n",
    "edges = np.linspace( -l_mpc/2 , l_mpc/2 , l_array+1 )\n",
    "X,Y,Z = np.meshgrid(edges,edges,edges,indexing='ij')\n",
    "\n",
    "\n",
    "\"\"\"\n",
    "You now have zeta_g, delta_g, and delta, which are three n-by-n-by-n NumPy arrays representing a gaussian zeta field, a gaussian density field (specifically rho bar times delta, that we talked about today) and a non-gaussian delta field. \n",
    "\"\"\""
   ]
  },
  {
   "cell_type": "markdown",
   "metadata": {},
   "source": [
    "## Check random entries from each of the extracted fields"
   ]
  },
  {
   "cell_type": "code",
   "execution_count": null,
   "metadata": {},
   "outputs": [
    {
     "name": "stdout",
     "output_type": "stream",
     "text": [
      "Delta Gauss-comp (75, 535, 295):       8.289872\n",
      "Delta nonG-comp (75, 535, 295):         -24865.209\n",
      "Delta total (75, 535, 295):             -24856.92\n",
      "\n",
      "Zeta Gauss-comp (75, 535, 295):        3.3018678e-11\n",
      "Zeta nonG-comp (75, 535, 295):          2.2884975e-11\n",
      "Zeta total (75, 535, 295):              5.5903653e-11\n"
     ]
    }
   ],
   "source": [
    "# Random coordinates\n",
    "x, y, z = nprandint(0, l_trim, 3)\n",
    "\n",
    "print('Delta Gauss-comp ({}, {}, {}):      '.format(x, y, z), delta_g[x,y,z])\n",
    "print('Delta nonG-comp ({}, {}, {}):        '.format(x, y, z), delta_ng[x,y,z])\n",
    "print('Delta total ({}, {}, {}):            '.format(x, y, z), delta[x,y,z])\n",
    "\n",
    "print('\\nZeta Gauss-comp ({}, {}, {}):       '.format(x, y, z), zeta_g[x,y,z])\n",
    "print('Zeta nonG-comp ({}, {}, {}):         '.format(x, y, z), zeta_ng[x,y,z])\n",
    "print('Zeta total ({}, {}, {}):             '.format(x, y, z), zeta[x,y,z])"
   ]
  }
 ],
 "metadata": {
  "interpreter": {
   "hash": "e92ba12bfe68a05eeab84e5337b7e43a633e4e42b0d1da1ed095f680f6572411"
  },
  "kernelspec": {
   "display_name": "Python 3.10.2 ('cosmic_nong')",
   "language": "python",
   "name": "python3"
  },
  "language_info": {
   "name": "python",
   "version": "3.10.2"
  },
  "orig_nbformat": 4
 },
 "nbformat": 4,
 "nbformat_minor": 2
}
